{
 "cells": [
  {
   "cell_type": "markdown",
   "metadata": {
    "toc": true
   },
   "source": [
    "<h1>Содержание<span class=\"tocSkip\"></span></h1>\n",
    "<div class=\"toc\"><ul class=\"toc-item\"><li><span><a href=\"#Подготовка-данных\" data-toc-modified-id=\"Подготовка-данных-1\"><span class=\"toc-item-num\">1&nbsp;&nbsp;</span>Подготовка данных</a></span><ul class=\"toc-item\"><li><span><a href=\"#Откройте-файлы-и-изучите-их.\" data-toc-modified-id=\"Откройте-файлы-и-изучите-их.-1.1\"><span class=\"toc-item-num\">1.1&nbsp;&nbsp;</span>Откройте файлы и изучите их.</a></span></li><li><span><a href=\"#Проверка-и-вычисление-эффективности-обогащения.-MAE-между-расчётами-и-значением-признака.\" data-toc-modified-id=\"Проверка-и-вычисление-эффективности-обогащения.-MAE-между-расчётами-и-значением-признака.-1.2\"><span class=\"toc-item-num\">1.2&nbsp;&nbsp;</span>Проверка и вычисление эффективности обогащения. MAE между расчётами и значением признака.</a></span></li><li><span><a href=\"#Предобработка-данных\" data-toc-modified-id=\"Предобработка-данных-1.3\"><span class=\"toc-item-num\">1.3&nbsp;&nbsp;</span>Предобработка данных</a></span></li></ul></li><li><span><a href=\"#Анализ-данных\" data-toc-modified-id=\"Анализ-данных-2\"><span class=\"toc-item-num\">2&nbsp;&nbsp;</span>Анализ данных</a></span><ul class=\"toc-item\"><li><span><a href=\"#Анализ-концентрации-металлов\" data-toc-modified-id=\"Анализ-концентрации-металлов-2.1\"><span class=\"toc-item-num\">2.1&nbsp;&nbsp;</span>Анализ концентрации металлов</a></span></li><li><span><a href=\"#Анализ-сырья\" data-toc-modified-id=\"Анализ-сырья-2.2\"><span class=\"toc-item-num\">2.2&nbsp;&nbsp;</span>Анализ сырья</a></span></li><li><span><a href=\"#Анализ-суммарной-концентрации\" data-toc-modified-id=\"Анализ-суммарной-концентрации-2.3\"><span class=\"toc-item-num\">2.3&nbsp;&nbsp;</span>Анализ суммарной концентрации</a></span></li></ul></li><li><span><a href=\"#Модель\" data-toc-modified-id=\"Модель-3\"><span class=\"toc-item-num\">3&nbsp;&nbsp;</span>Модель</a></span><ul class=\"toc-item\"><li><span><a href=\"#SMAPE\" data-toc-modified-id=\"SMAPE-3.1\"><span class=\"toc-item-num\">3.1&nbsp;&nbsp;</span>SMAPE</a></span></li><li><span><a href=\"#Перебор-моделей\" data-toc-modified-id=\"Перебор-моделей-3.2\"><span class=\"toc-item-num\">3.2&nbsp;&nbsp;</span>Перебор моделей</a></span></li></ul></li><li><span><a href=\"#Вывод\" data-toc-modified-id=\"Вывод-4\"><span class=\"toc-item-num\">4&nbsp;&nbsp;</span>Вывод</a></span></li></ul></div>"
   ]
  },
  {
   "cell_type": "markdown",
   "metadata": {},
   "source": [
    "# Восстановление золота из руды"
   ]
  },
  {
   "cell_type": "markdown",
   "metadata": {},
   "source": [
    "Подготовьте прототип модели машинного обучения для «Цифры». Компания разрабатывает решения для эффективной работы промышленных предприятий.\n",
    "\n",
    "Модель должна предсказать коэффициент восстановления золота из золотосодержащей руды. Используйте данные с параметрами добычи и очистки. \n",
    "\n",
    "Модель поможет оптимизировать производство, чтобы не запускать предприятие с убыточными характеристиками.\n",
    "\n",
    "Вам нужно:\n",
    "\n",
    "1. Подготовить данные;\n",
    "2. Провести исследовательский анализ данных;\n",
    "3. Построить и обучить модель.\n",
    "\n",
    "Чтобы выполнить проект, обращайтесь к библиотекам *pandas*, *matplotlib* и *sklearn.* Вам поможет их документация."
   ]
  },
  {
   "cell_type": "markdown",
   "metadata": {},
   "source": [
    "## Подготовка данных"
   ]
  },
  {
   "cell_type": "markdown",
   "metadata": {},
   "source": [
    "###  Откройте файлы и изучите их."
   ]
  },
  {
   "cell_type": "code",
   "execution_count": 1,
   "metadata": {},
   "outputs": [],
   "source": [
    "import pandas as pd\n",
    "import numpy as np\n",
    "from IPython.display import display\n",
    "\n",
    "from sklearn.metrics import mean_absolute_error as mae\n",
    "from sklearn.metrics import make_scorer\n",
    "from sklearn.model_selection import cross_val_score, GridSearchCV\n",
    "from sklearn.preprocessing import StandardScaler\n",
    "\n",
    "import seaborn as sns\n",
    "import matplotlib.pyplot as plt\n",
    "\n",
    "from sklearn.pipeline import Pipeline\n",
    "from sklearn.linear_model import LinearRegression\n",
    "from sklearn.ensemble import RandomForestRegressor\n",
    "from sklearn.neighbors import KNeighborsRegressor"
   ]
  },
  {
   "cell_type": "code",
   "execution_count": 2,
   "metadata": {},
   "outputs": [],
   "source": [
    "def data_read(file_path):\n",
    "    data = pd.read_csv(file_path)\n",
    "    display(data.head())\n",
    "    display(data.info())\n",
    "    print('Количество пропусков:', data.isna().sum())\n",
    "    print('Количество дубликатов:', sum(data.duplicated()))\n",
    "    return data"
   ]
  },
  {
   "cell_type": "code",
   "execution_count": 3,
   "metadata": {
    "scrolled": true
   },
   "outputs": [
    {
     "data": {
      "text/html": [
       "<div>\n",
       "<style scoped>\n",
       "    .dataframe tbody tr th:only-of-type {\n",
       "        vertical-align: middle;\n",
       "    }\n",
       "\n",
       "    .dataframe tbody tr th {\n",
       "        vertical-align: top;\n",
       "    }\n",
       "\n",
       "    .dataframe thead th {\n",
       "        text-align: right;\n",
       "    }\n",
       "</style>\n",
       "<table border=\"1\" class=\"dataframe\">\n",
       "  <thead>\n",
       "    <tr style=\"text-align: right;\">\n",
       "      <th></th>\n",
       "      <th>date</th>\n",
       "      <th>final.output.concentrate_ag</th>\n",
       "      <th>final.output.concentrate_pb</th>\n",
       "      <th>final.output.concentrate_sol</th>\n",
       "      <th>final.output.concentrate_au</th>\n",
       "      <th>final.output.recovery</th>\n",
       "      <th>final.output.tail_ag</th>\n",
       "      <th>final.output.tail_pb</th>\n",
       "      <th>final.output.tail_sol</th>\n",
       "      <th>final.output.tail_au</th>\n",
       "      <th>...</th>\n",
       "      <th>secondary_cleaner.state.floatbank4_a_air</th>\n",
       "      <th>secondary_cleaner.state.floatbank4_a_level</th>\n",
       "      <th>secondary_cleaner.state.floatbank4_b_air</th>\n",
       "      <th>secondary_cleaner.state.floatbank4_b_level</th>\n",
       "      <th>secondary_cleaner.state.floatbank5_a_air</th>\n",
       "      <th>secondary_cleaner.state.floatbank5_a_level</th>\n",
       "      <th>secondary_cleaner.state.floatbank5_b_air</th>\n",
       "      <th>secondary_cleaner.state.floatbank5_b_level</th>\n",
       "      <th>secondary_cleaner.state.floatbank6_a_air</th>\n",
       "      <th>secondary_cleaner.state.floatbank6_a_level</th>\n",
       "    </tr>\n",
       "  </thead>\n",
       "  <tbody>\n",
       "    <tr>\n",
       "      <td>0</td>\n",
       "      <td>2016-01-15 00:00:00</td>\n",
       "      <td>6.055403</td>\n",
       "      <td>9.889648</td>\n",
       "      <td>5.507324</td>\n",
       "      <td>42.192020</td>\n",
       "      <td>70.541216</td>\n",
       "      <td>10.411962</td>\n",
       "      <td>0.895447</td>\n",
       "      <td>16.904297</td>\n",
       "      <td>2.143149</td>\n",
       "      <td>...</td>\n",
       "      <td>14.016835</td>\n",
       "      <td>-502.488007</td>\n",
       "      <td>12.099931</td>\n",
       "      <td>-504.715942</td>\n",
       "      <td>9.925633</td>\n",
       "      <td>-498.310211</td>\n",
       "      <td>8.079666</td>\n",
       "      <td>-500.470978</td>\n",
       "      <td>14.151341</td>\n",
       "      <td>-605.841980</td>\n",
       "    </tr>\n",
       "    <tr>\n",
       "      <td>1</td>\n",
       "      <td>2016-01-15 01:00:00</td>\n",
       "      <td>6.029369</td>\n",
       "      <td>9.968944</td>\n",
       "      <td>5.257781</td>\n",
       "      <td>42.701629</td>\n",
       "      <td>69.266198</td>\n",
       "      <td>10.462676</td>\n",
       "      <td>0.927452</td>\n",
       "      <td>16.634514</td>\n",
       "      <td>2.224930</td>\n",
       "      <td>...</td>\n",
       "      <td>13.992281</td>\n",
       "      <td>-505.503262</td>\n",
       "      <td>11.950531</td>\n",
       "      <td>-501.331529</td>\n",
       "      <td>10.039245</td>\n",
       "      <td>-500.169983</td>\n",
       "      <td>7.984757</td>\n",
       "      <td>-500.582168</td>\n",
       "      <td>13.998353</td>\n",
       "      <td>-599.787184</td>\n",
       "    </tr>\n",
       "    <tr>\n",
       "      <td>2</td>\n",
       "      <td>2016-01-15 02:00:00</td>\n",
       "      <td>6.055926</td>\n",
       "      <td>10.213995</td>\n",
       "      <td>5.383759</td>\n",
       "      <td>42.657501</td>\n",
       "      <td>68.116445</td>\n",
       "      <td>10.507046</td>\n",
       "      <td>0.953716</td>\n",
       "      <td>16.208849</td>\n",
       "      <td>2.257889</td>\n",
       "      <td>...</td>\n",
       "      <td>14.015015</td>\n",
       "      <td>-502.520901</td>\n",
       "      <td>11.912783</td>\n",
       "      <td>-501.133383</td>\n",
       "      <td>10.070913</td>\n",
       "      <td>-500.129135</td>\n",
       "      <td>8.013877</td>\n",
       "      <td>-500.517572</td>\n",
       "      <td>14.028663</td>\n",
       "      <td>-601.427363</td>\n",
       "    </tr>\n",
       "    <tr>\n",
       "      <td>3</td>\n",
       "      <td>2016-01-15 03:00:00</td>\n",
       "      <td>6.047977</td>\n",
       "      <td>9.977019</td>\n",
       "      <td>4.858634</td>\n",
       "      <td>42.689819</td>\n",
       "      <td>68.347543</td>\n",
       "      <td>10.422762</td>\n",
       "      <td>0.883763</td>\n",
       "      <td>16.532835</td>\n",
       "      <td>2.146849</td>\n",
       "      <td>...</td>\n",
       "      <td>14.036510</td>\n",
       "      <td>-500.857308</td>\n",
       "      <td>11.999550</td>\n",
       "      <td>-501.193686</td>\n",
       "      <td>9.970366</td>\n",
       "      <td>-499.201640</td>\n",
       "      <td>7.977324</td>\n",
       "      <td>-500.255908</td>\n",
       "      <td>14.005551</td>\n",
       "      <td>-599.996129</td>\n",
       "    </tr>\n",
       "    <tr>\n",
       "      <td>4</td>\n",
       "      <td>2016-01-15 04:00:00</td>\n",
       "      <td>6.148599</td>\n",
       "      <td>10.142511</td>\n",
       "      <td>4.939416</td>\n",
       "      <td>42.774141</td>\n",
       "      <td>66.927016</td>\n",
       "      <td>10.360302</td>\n",
       "      <td>0.792826</td>\n",
       "      <td>16.525686</td>\n",
       "      <td>2.055292</td>\n",
       "      <td>...</td>\n",
       "      <td>14.027298</td>\n",
       "      <td>-499.838632</td>\n",
       "      <td>11.953070</td>\n",
       "      <td>-501.053894</td>\n",
       "      <td>9.925709</td>\n",
       "      <td>-501.686727</td>\n",
       "      <td>7.894242</td>\n",
       "      <td>-500.356035</td>\n",
       "      <td>13.996647</td>\n",
       "      <td>-601.496691</td>\n",
       "    </tr>\n",
       "  </tbody>\n",
       "</table>\n",
       "<p>5 rows × 87 columns</p>\n",
       "</div>"
      ],
      "text/plain": [
       "                  date  final.output.concentrate_ag  \\\n",
       "0  2016-01-15 00:00:00                     6.055403   \n",
       "1  2016-01-15 01:00:00                     6.029369   \n",
       "2  2016-01-15 02:00:00                     6.055926   \n",
       "3  2016-01-15 03:00:00                     6.047977   \n",
       "4  2016-01-15 04:00:00                     6.148599   \n",
       "\n",
       "   final.output.concentrate_pb  final.output.concentrate_sol  \\\n",
       "0                     9.889648                      5.507324   \n",
       "1                     9.968944                      5.257781   \n",
       "2                    10.213995                      5.383759   \n",
       "3                     9.977019                      4.858634   \n",
       "4                    10.142511                      4.939416   \n",
       "\n",
       "   final.output.concentrate_au  final.output.recovery  final.output.tail_ag  \\\n",
       "0                    42.192020              70.541216             10.411962   \n",
       "1                    42.701629              69.266198             10.462676   \n",
       "2                    42.657501              68.116445             10.507046   \n",
       "3                    42.689819              68.347543             10.422762   \n",
       "4                    42.774141              66.927016             10.360302   \n",
       "\n",
       "   final.output.tail_pb  final.output.tail_sol  final.output.tail_au  ...  \\\n",
       "0              0.895447              16.904297              2.143149  ...   \n",
       "1              0.927452              16.634514              2.224930  ...   \n",
       "2              0.953716              16.208849              2.257889  ...   \n",
       "3              0.883763              16.532835              2.146849  ...   \n",
       "4              0.792826              16.525686              2.055292  ...   \n",
       "\n",
       "   secondary_cleaner.state.floatbank4_a_air  \\\n",
       "0                                 14.016835   \n",
       "1                                 13.992281   \n",
       "2                                 14.015015   \n",
       "3                                 14.036510   \n",
       "4                                 14.027298   \n",
       "\n",
       "   secondary_cleaner.state.floatbank4_a_level  \\\n",
       "0                                 -502.488007   \n",
       "1                                 -505.503262   \n",
       "2                                 -502.520901   \n",
       "3                                 -500.857308   \n",
       "4                                 -499.838632   \n",
       "\n",
       "   secondary_cleaner.state.floatbank4_b_air  \\\n",
       "0                                 12.099931   \n",
       "1                                 11.950531   \n",
       "2                                 11.912783   \n",
       "3                                 11.999550   \n",
       "4                                 11.953070   \n",
       "\n",
       "   secondary_cleaner.state.floatbank4_b_level  \\\n",
       "0                                 -504.715942   \n",
       "1                                 -501.331529   \n",
       "2                                 -501.133383   \n",
       "3                                 -501.193686   \n",
       "4                                 -501.053894   \n",
       "\n",
       "   secondary_cleaner.state.floatbank5_a_air  \\\n",
       "0                                  9.925633   \n",
       "1                                 10.039245   \n",
       "2                                 10.070913   \n",
       "3                                  9.970366   \n",
       "4                                  9.925709   \n",
       "\n",
       "   secondary_cleaner.state.floatbank5_a_level  \\\n",
       "0                                 -498.310211   \n",
       "1                                 -500.169983   \n",
       "2                                 -500.129135   \n",
       "3                                 -499.201640   \n",
       "4                                 -501.686727   \n",
       "\n",
       "   secondary_cleaner.state.floatbank5_b_air  \\\n",
       "0                                  8.079666   \n",
       "1                                  7.984757   \n",
       "2                                  8.013877   \n",
       "3                                  7.977324   \n",
       "4                                  7.894242   \n",
       "\n",
       "   secondary_cleaner.state.floatbank5_b_level  \\\n",
       "0                                 -500.470978   \n",
       "1                                 -500.582168   \n",
       "2                                 -500.517572   \n",
       "3                                 -500.255908   \n",
       "4                                 -500.356035   \n",
       "\n",
       "   secondary_cleaner.state.floatbank6_a_air  \\\n",
       "0                                 14.151341   \n",
       "1                                 13.998353   \n",
       "2                                 14.028663   \n",
       "3                                 14.005551   \n",
       "4                                 13.996647   \n",
       "\n",
       "   secondary_cleaner.state.floatbank6_a_level  \n",
       "0                                 -605.841980  \n",
       "1                                 -599.787184  \n",
       "2                                 -601.427363  \n",
       "3                                 -599.996129  \n",
       "4                                 -601.496691  \n",
       "\n",
       "[5 rows x 87 columns]"
      ]
     },
     "metadata": {},
     "output_type": "display_data"
    },
    {
     "name": "stdout",
     "output_type": "stream",
     "text": [
      "<class 'pandas.core.frame.DataFrame'>\n",
      "RangeIndex: 22716 entries, 0 to 22715\n",
      "Data columns (total 87 columns):\n",
      "date                                                  22716 non-null object\n",
      "final.output.concentrate_ag                           22627 non-null float64\n",
      "final.output.concentrate_pb                           22629 non-null float64\n",
      "final.output.concentrate_sol                          22331 non-null float64\n",
      "final.output.concentrate_au                           22630 non-null float64\n",
      "final.output.recovery                                 20753 non-null float64\n",
      "final.output.tail_ag                                  22633 non-null float64\n",
      "final.output.tail_pb                                  22516 non-null float64\n",
      "final.output.tail_sol                                 22445 non-null float64\n",
      "final.output.tail_au                                  22635 non-null float64\n",
      "primary_cleaner.input.sulfate                         21107 non-null float64\n",
      "primary_cleaner.input.depressant                      21170 non-null float64\n",
      "primary_cleaner.input.feed_size                       22716 non-null float64\n",
      "primary_cleaner.input.xanthate                        21565 non-null float64\n",
      "primary_cleaner.output.concentrate_ag                 22618 non-null float64\n",
      "primary_cleaner.output.concentrate_pb                 22268 non-null float64\n",
      "primary_cleaner.output.concentrate_sol                21918 non-null float64\n",
      "primary_cleaner.output.concentrate_au                 22618 non-null float64\n",
      "primary_cleaner.output.tail_ag                        22614 non-null float64\n",
      "primary_cleaner.output.tail_pb                        22594 non-null float64\n",
      "primary_cleaner.output.tail_sol                       22365 non-null float64\n",
      "primary_cleaner.output.tail_au                        22617 non-null float64\n",
      "primary_cleaner.state.floatbank8_a_air                22660 non-null float64\n",
      "primary_cleaner.state.floatbank8_a_level              22667 non-null float64\n",
      "primary_cleaner.state.floatbank8_b_air                22660 non-null float64\n",
      "primary_cleaner.state.floatbank8_b_level              22673 non-null float64\n",
      "primary_cleaner.state.floatbank8_c_air                22662 non-null float64\n",
      "primary_cleaner.state.floatbank8_c_level              22673 non-null float64\n",
      "primary_cleaner.state.floatbank8_d_air                22661 non-null float64\n",
      "primary_cleaner.state.floatbank8_d_level              22673 non-null float64\n",
      "rougher.calculation.sulfate_to_au_concentrate         22672 non-null float64\n",
      "rougher.calculation.floatbank10_sulfate_to_au_feed    22672 non-null float64\n",
      "rougher.calculation.floatbank11_sulfate_to_au_feed    22672 non-null float64\n",
      "rougher.calculation.au_pb_ratio                       21089 non-null float64\n",
      "rougher.input.feed_ag                                 22618 non-null float64\n",
      "rougher.input.feed_pb                                 22472 non-null float64\n",
      "rougher.input.feed_rate                               22163 non-null float64\n",
      "rougher.input.feed_size                               22277 non-null float64\n",
      "rougher.input.feed_sol                                22357 non-null float64\n",
      "rougher.input.feed_au                                 22617 non-null float64\n",
      "rougher.input.floatbank10_sulfate                     21415 non-null float64\n",
      "rougher.input.floatbank10_xanthate                    22247 non-null float64\n",
      "rougher.input.floatbank11_sulfate                     22038 non-null float64\n",
      "rougher.input.floatbank11_xanthate                    20459 non-null float64\n",
      "rougher.output.concentrate_ag                         22618 non-null float64\n",
      "rougher.output.concentrate_pb                         22618 non-null float64\n",
      "rougher.output.concentrate_sol                        22526 non-null float64\n",
      "rougher.output.concentrate_au                         22618 non-null float64\n",
      "rougher.output.recovery                               19597 non-null float64\n",
      "rougher.output.tail_ag                                19979 non-null float64\n",
      "rougher.output.tail_pb                                22618 non-null float64\n",
      "rougher.output.tail_sol                               19980 non-null float64\n",
      "rougher.output.tail_au                                19980 non-null float64\n",
      "rougher.state.floatbank10_a_air                       22646 non-null float64\n",
      "rougher.state.floatbank10_a_level                     22647 non-null float64\n",
      "rougher.state.floatbank10_b_air                       22646 non-null float64\n",
      "rougher.state.floatbank10_b_level                     22647 non-null float64\n",
      "rougher.state.floatbank10_c_air                       22646 non-null float64\n",
      "rougher.state.floatbank10_c_level                     22654 non-null float64\n",
      "rougher.state.floatbank10_d_air                       22641 non-null float64\n",
      "rougher.state.floatbank10_d_level                     22649 non-null float64\n",
      "rougher.state.floatbank10_e_air                       22096 non-null float64\n",
      "rougher.state.floatbank10_e_level                     22649 non-null float64\n",
      "rougher.state.floatbank10_f_air                       22641 non-null float64\n",
      "rougher.state.floatbank10_f_level                     22642 non-null float64\n",
      "secondary_cleaner.output.tail_ag                      22616 non-null float64\n",
      "secondary_cleaner.output.tail_pb                      22600 non-null float64\n",
      "secondary_cleaner.output.tail_sol                     20501 non-null float64\n",
      "secondary_cleaner.output.tail_au                      22618 non-null float64\n",
      "secondary_cleaner.state.floatbank2_a_air              22333 non-null float64\n",
      "secondary_cleaner.state.floatbank2_a_level            22591 non-null float64\n",
      "secondary_cleaner.state.floatbank2_b_air              22538 non-null float64\n",
      "secondary_cleaner.state.floatbank2_b_level            22588 non-null float64\n",
      "secondary_cleaner.state.floatbank3_a_air              22585 non-null float64\n",
      "secondary_cleaner.state.floatbank3_a_level            22587 non-null float64\n",
      "secondary_cleaner.state.floatbank3_b_air              22592 non-null float64\n",
      "secondary_cleaner.state.floatbank3_b_level            22590 non-null float64\n",
      "secondary_cleaner.state.floatbank4_a_air              22571 non-null float64\n",
      "secondary_cleaner.state.floatbank4_a_level            22587 non-null float64\n",
      "secondary_cleaner.state.floatbank4_b_air              22608 non-null float64\n",
      "secondary_cleaner.state.floatbank4_b_level            22607 non-null float64\n",
      "secondary_cleaner.state.floatbank5_a_air              22615 non-null float64\n",
      "secondary_cleaner.state.floatbank5_a_level            22615 non-null float64\n",
      "secondary_cleaner.state.floatbank5_b_air              22615 non-null float64\n",
      "secondary_cleaner.state.floatbank5_b_level            22616 non-null float64\n",
      "secondary_cleaner.state.floatbank6_a_air              22597 non-null float64\n",
      "secondary_cleaner.state.floatbank6_a_level            22615 non-null float64\n",
      "dtypes: float64(86), object(1)\n",
      "memory usage: 15.1+ MB\n"
     ]
    },
    {
     "data": {
      "text/plain": [
       "None"
      ]
     },
     "metadata": {},
     "output_type": "display_data"
    },
    {
     "name": "stdout",
     "output_type": "stream",
     "text": [
      "Количество пропусков: date                                            0\n",
      "final.output.concentrate_ag                    89\n",
      "final.output.concentrate_pb                    87\n",
      "final.output.concentrate_sol                  385\n",
      "final.output.concentrate_au                    86\n",
      "                                             ... \n",
      "secondary_cleaner.state.floatbank5_a_level    101\n",
      "secondary_cleaner.state.floatbank5_b_air      101\n",
      "secondary_cleaner.state.floatbank5_b_level    100\n",
      "secondary_cleaner.state.floatbank6_a_air      119\n",
      "secondary_cleaner.state.floatbank6_a_level    101\n",
      "Length: 87, dtype: int64\n",
      "Количество дубликатов: 0\n"
     ]
    },
    {
     "data": {
      "text/html": [
       "<div>\n",
       "<style scoped>\n",
       "    .dataframe tbody tr th:only-of-type {\n",
       "        vertical-align: middle;\n",
       "    }\n",
       "\n",
       "    .dataframe tbody tr th {\n",
       "        vertical-align: top;\n",
       "    }\n",
       "\n",
       "    .dataframe thead th {\n",
       "        text-align: right;\n",
       "    }\n",
       "</style>\n",
       "<table border=\"1\" class=\"dataframe\">\n",
       "  <thead>\n",
       "    <tr style=\"text-align: right;\">\n",
       "      <th></th>\n",
       "      <th>date</th>\n",
       "      <th>final.output.concentrate_ag</th>\n",
       "      <th>final.output.concentrate_pb</th>\n",
       "      <th>final.output.concentrate_sol</th>\n",
       "      <th>final.output.concentrate_au</th>\n",
       "      <th>final.output.recovery</th>\n",
       "      <th>final.output.tail_ag</th>\n",
       "      <th>final.output.tail_pb</th>\n",
       "      <th>final.output.tail_sol</th>\n",
       "      <th>final.output.tail_au</th>\n",
       "      <th>...</th>\n",
       "      <th>secondary_cleaner.state.floatbank4_a_air</th>\n",
       "      <th>secondary_cleaner.state.floatbank4_a_level</th>\n",
       "      <th>secondary_cleaner.state.floatbank4_b_air</th>\n",
       "      <th>secondary_cleaner.state.floatbank4_b_level</th>\n",
       "      <th>secondary_cleaner.state.floatbank5_a_air</th>\n",
       "      <th>secondary_cleaner.state.floatbank5_a_level</th>\n",
       "      <th>secondary_cleaner.state.floatbank5_b_air</th>\n",
       "      <th>secondary_cleaner.state.floatbank5_b_level</th>\n",
       "      <th>secondary_cleaner.state.floatbank6_a_air</th>\n",
       "      <th>secondary_cleaner.state.floatbank6_a_level</th>\n",
       "    </tr>\n",
       "  </thead>\n",
       "  <tbody>\n",
       "    <tr>\n",
       "      <td>0</td>\n",
       "      <td>2016-01-15 00:00:00</td>\n",
       "      <td>6.055403</td>\n",
       "      <td>9.889648</td>\n",
       "      <td>5.507324</td>\n",
       "      <td>42.192020</td>\n",
       "      <td>70.541216</td>\n",
       "      <td>10.411962</td>\n",
       "      <td>0.895447</td>\n",
       "      <td>16.904297</td>\n",
       "      <td>2.143149</td>\n",
       "      <td>...</td>\n",
       "      <td>14.016835</td>\n",
       "      <td>-502.488007</td>\n",
       "      <td>12.099931</td>\n",
       "      <td>-504.715942</td>\n",
       "      <td>9.925633</td>\n",
       "      <td>-498.310211</td>\n",
       "      <td>8.079666</td>\n",
       "      <td>-500.470978</td>\n",
       "      <td>14.151341</td>\n",
       "      <td>-605.841980</td>\n",
       "    </tr>\n",
       "    <tr>\n",
       "      <td>1</td>\n",
       "      <td>2016-01-15 01:00:00</td>\n",
       "      <td>6.029369</td>\n",
       "      <td>9.968944</td>\n",
       "      <td>5.257781</td>\n",
       "      <td>42.701629</td>\n",
       "      <td>69.266198</td>\n",
       "      <td>10.462676</td>\n",
       "      <td>0.927452</td>\n",
       "      <td>16.634514</td>\n",
       "      <td>2.224930</td>\n",
       "      <td>...</td>\n",
       "      <td>13.992281</td>\n",
       "      <td>-505.503262</td>\n",
       "      <td>11.950531</td>\n",
       "      <td>-501.331529</td>\n",
       "      <td>10.039245</td>\n",
       "      <td>-500.169983</td>\n",
       "      <td>7.984757</td>\n",
       "      <td>-500.582168</td>\n",
       "      <td>13.998353</td>\n",
       "      <td>-599.787184</td>\n",
       "    </tr>\n",
       "    <tr>\n",
       "      <td>2</td>\n",
       "      <td>2016-01-15 02:00:00</td>\n",
       "      <td>6.055926</td>\n",
       "      <td>10.213995</td>\n",
       "      <td>5.383759</td>\n",
       "      <td>42.657501</td>\n",
       "      <td>68.116445</td>\n",
       "      <td>10.507046</td>\n",
       "      <td>0.953716</td>\n",
       "      <td>16.208849</td>\n",
       "      <td>2.257889</td>\n",
       "      <td>...</td>\n",
       "      <td>14.015015</td>\n",
       "      <td>-502.520901</td>\n",
       "      <td>11.912783</td>\n",
       "      <td>-501.133383</td>\n",
       "      <td>10.070913</td>\n",
       "      <td>-500.129135</td>\n",
       "      <td>8.013877</td>\n",
       "      <td>-500.517572</td>\n",
       "      <td>14.028663</td>\n",
       "      <td>-601.427363</td>\n",
       "    </tr>\n",
       "    <tr>\n",
       "      <td>3</td>\n",
       "      <td>2016-01-15 03:00:00</td>\n",
       "      <td>6.047977</td>\n",
       "      <td>9.977019</td>\n",
       "      <td>4.858634</td>\n",
       "      <td>42.689819</td>\n",
       "      <td>68.347543</td>\n",
       "      <td>10.422762</td>\n",
       "      <td>0.883763</td>\n",
       "      <td>16.532835</td>\n",
       "      <td>2.146849</td>\n",
       "      <td>...</td>\n",
       "      <td>14.036510</td>\n",
       "      <td>-500.857308</td>\n",
       "      <td>11.999550</td>\n",
       "      <td>-501.193686</td>\n",
       "      <td>9.970366</td>\n",
       "      <td>-499.201640</td>\n",
       "      <td>7.977324</td>\n",
       "      <td>-500.255908</td>\n",
       "      <td>14.005551</td>\n",
       "      <td>-599.996129</td>\n",
       "    </tr>\n",
       "    <tr>\n",
       "      <td>4</td>\n",
       "      <td>2016-01-15 04:00:00</td>\n",
       "      <td>6.148599</td>\n",
       "      <td>10.142511</td>\n",
       "      <td>4.939416</td>\n",
       "      <td>42.774141</td>\n",
       "      <td>66.927016</td>\n",
       "      <td>10.360302</td>\n",
       "      <td>0.792826</td>\n",
       "      <td>16.525686</td>\n",
       "      <td>2.055292</td>\n",
       "      <td>...</td>\n",
       "      <td>14.027298</td>\n",
       "      <td>-499.838632</td>\n",
       "      <td>11.953070</td>\n",
       "      <td>-501.053894</td>\n",
       "      <td>9.925709</td>\n",
       "      <td>-501.686727</td>\n",
       "      <td>7.894242</td>\n",
       "      <td>-500.356035</td>\n",
       "      <td>13.996647</td>\n",
       "      <td>-601.496691</td>\n",
       "    </tr>\n",
       "  </tbody>\n",
       "</table>\n",
       "<p>5 rows × 87 columns</p>\n",
       "</div>"
      ],
      "text/plain": [
       "                  date  final.output.concentrate_ag  \\\n",
       "0  2016-01-15 00:00:00                     6.055403   \n",
       "1  2016-01-15 01:00:00                     6.029369   \n",
       "2  2016-01-15 02:00:00                     6.055926   \n",
       "3  2016-01-15 03:00:00                     6.047977   \n",
       "4  2016-01-15 04:00:00                     6.148599   \n",
       "\n",
       "   final.output.concentrate_pb  final.output.concentrate_sol  \\\n",
       "0                     9.889648                      5.507324   \n",
       "1                     9.968944                      5.257781   \n",
       "2                    10.213995                      5.383759   \n",
       "3                     9.977019                      4.858634   \n",
       "4                    10.142511                      4.939416   \n",
       "\n",
       "   final.output.concentrate_au  final.output.recovery  final.output.tail_ag  \\\n",
       "0                    42.192020              70.541216             10.411962   \n",
       "1                    42.701629              69.266198             10.462676   \n",
       "2                    42.657501              68.116445             10.507046   \n",
       "3                    42.689819              68.347543             10.422762   \n",
       "4                    42.774141              66.927016             10.360302   \n",
       "\n",
       "   final.output.tail_pb  final.output.tail_sol  final.output.tail_au  ...  \\\n",
       "0              0.895447              16.904297              2.143149  ...   \n",
       "1              0.927452              16.634514              2.224930  ...   \n",
       "2              0.953716              16.208849              2.257889  ...   \n",
       "3              0.883763              16.532835              2.146849  ...   \n",
       "4              0.792826              16.525686              2.055292  ...   \n",
       "\n",
       "   secondary_cleaner.state.floatbank4_a_air  \\\n",
       "0                                 14.016835   \n",
       "1                                 13.992281   \n",
       "2                                 14.015015   \n",
       "3                                 14.036510   \n",
       "4                                 14.027298   \n",
       "\n",
       "   secondary_cleaner.state.floatbank4_a_level  \\\n",
       "0                                 -502.488007   \n",
       "1                                 -505.503262   \n",
       "2                                 -502.520901   \n",
       "3                                 -500.857308   \n",
       "4                                 -499.838632   \n",
       "\n",
       "   secondary_cleaner.state.floatbank4_b_air  \\\n",
       "0                                 12.099931   \n",
       "1                                 11.950531   \n",
       "2                                 11.912783   \n",
       "3                                 11.999550   \n",
       "4                                 11.953070   \n",
       "\n",
       "   secondary_cleaner.state.floatbank4_b_level  \\\n",
       "0                                 -504.715942   \n",
       "1                                 -501.331529   \n",
       "2                                 -501.133383   \n",
       "3                                 -501.193686   \n",
       "4                                 -501.053894   \n",
       "\n",
       "   secondary_cleaner.state.floatbank5_a_air  \\\n",
       "0                                  9.925633   \n",
       "1                                 10.039245   \n",
       "2                                 10.070913   \n",
       "3                                  9.970366   \n",
       "4                                  9.925709   \n",
       "\n",
       "   secondary_cleaner.state.floatbank5_a_level  \\\n",
       "0                                 -498.310211   \n",
       "1                                 -500.169983   \n",
       "2                                 -500.129135   \n",
       "3                                 -499.201640   \n",
       "4                                 -501.686727   \n",
       "\n",
       "   secondary_cleaner.state.floatbank5_b_air  \\\n",
       "0                                  8.079666   \n",
       "1                                  7.984757   \n",
       "2                                  8.013877   \n",
       "3                                  7.977324   \n",
       "4                                  7.894242   \n",
       "\n",
       "   secondary_cleaner.state.floatbank5_b_level  \\\n",
       "0                                 -500.470978   \n",
       "1                                 -500.582168   \n",
       "2                                 -500.517572   \n",
       "3                                 -500.255908   \n",
       "4                                 -500.356035   \n",
       "\n",
       "   secondary_cleaner.state.floatbank6_a_air  \\\n",
       "0                                 14.151341   \n",
       "1                                 13.998353   \n",
       "2                                 14.028663   \n",
       "3                                 14.005551   \n",
       "4                                 13.996647   \n",
       "\n",
       "   secondary_cleaner.state.floatbank6_a_level  \n",
       "0                                 -605.841980  \n",
       "1                                 -599.787184  \n",
       "2                                 -601.427363  \n",
       "3                                 -599.996129  \n",
       "4                                 -601.496691  \n",
       "\n",
       "[5 rows x 87 columns]"
      ]
     },
     "metadata": {},
     "output_type": "display_data"
    },
    {
     "name": "stdout",
     "output_type": "stream",
     "text": [
      "<class 'pandas.core.frame.DataFrame'>\n",
      "RangeIndex: 16860 entries, 0 to 16859\n",
      "Data columns (total 87 columns):\n",
      "date                                                  16860 non-null object\n",
      "final.output.concentrate_ag                           16788 non-null float64\n",
      "final.output.concentrate_pb                           16788 non-null float64\n",
      "final.output.concentrate_sol                          16490 non-null float64\n",
      "final.output.concentrate_au                           16789 non-null float64\n",
      "final.output.recovery                                 15339 non-null float64\n",
      "final.output.tail_ag                                  16794 non-null float64\n",
      "final.output.tail_pb                                  16677 non-null float64\n",
      "final.output.tail_sol                                 16715 non-null float64\n",
      "final.output.tail_au                                  16794 non-null float64\n",
      "primary_cleaner.input.sulfate                         15553 non-null float64\n",
      "primary_cleaner.input.depressant                      15598 non-null float64\n",
      "primary_cleaner.input.feed_size                       16860 non-null float64\n",
      "primary_cleaner.input.xanthate                        15875 non-null float64\n",
      "primary_cleaner.output.concentrate_ag                 16778 non-null float64\n",
      "primary_cleaner.output.concentrate_pb                 16502 non-null float64\n",
      "primary_cleaner.output.concentrate_sol                16224 non-null float64\n",
      "primary_cleaner.output.concentrate_au                 16778 non-null float64\n",
      "primary_cleaner.output.tail_ag                        16777 non-null float64\n",
      "primary_cleaner.output.tail_pb                        16761 non-null float64\n",
      "primary_cleaner.output.tail_sol                       16579 non-null float64\n",
      "primary_cleaner.output.tail_au                        16777 non-null float64\n",
      "primary_cleaner.state.floatbank8_a_air                16820 non-null float64\n",
      "primary_cleaner.state.floatbank8_a_level              16827 non-null float64\n",
      "primary_cleaner.state.floatbank8_b_air                16820 non-null float64\n",
      "primary_cleaner.state.floatbank8_b_level              16833 non-null float64\n",
      "primary_cleaner.state.floatbank8_c_air                16822 non-null float64\n",
      "primary_cleaner.state.floatbank8_c_level              16833 non-null float64\n",
      "primary_cleaner.state.floatbank8_d_air                16821 non-null float64\n",
      "primary_cleaner.state.floatbank8_d_level              16833 non-null float64\n",
      "rougher.calculation.sulfate_to_au_concentrate         16833 non-null float64\n",
      "rougher.calculation.floatbank10_sulfate_to_au_feed    16833 non-null float64\n",
      "rougher.calculation.floatbank11_sulfate_to_au_feed    16833 non-null float64\n",
      "rougher.calculation.au_pb_ratio                       15618 non-null float64\n",
      "rougher.input.feed_ag                                 16778 non-null float64\n",
      "rougher.input.feed_pb                                 16632 non-null float64\n",
      "rougher.input.feed_rate                               16347 non-null float64\n",
      "rougher.input.feed_size                               16443 non-null float64\n",
      "rougher.input.feed_sol                                16568 non-null float64\n",
      "rougher.input.feed_au                                 16777 non-null float64\n",
      "rougher.input.floatbank10_sulfate                     15816 non-null float64\n",
      "rougher.input.floatbank10_xanthate                    16514 non-null float64\n",
      "rougher.input.floatbank11_sulfate                     16237 non-null float64\n",
      "rougher.input.floatbank11_xanthate                    14956 non-null float64\n",
      "rougher.output.concentrate_ag                         16778 non-null float64\n",
      "rougher.output.concentrate_pb                         16778 non-null float64\n",
      "rougher.output.concentrate_sol                        16698 non-null float64\n",
      "rougher.output.concentrate_au                         16778 non-null float64\n",
      "rougher.output.recovery                               14287 non-null float64\n",
      "rougher.output.tail_ag                                14610 non-null float64\n",
      "rougher.output.tail_pb                                16778 non-null float64\n",
      "rougher.output.tail_sol                               14611 non-null float64\n",
      "rougher.output.tail_au                                14611 non-null float64\n",
      "rougher.state.floatbank10_a_air                       16807 non-null float64\n",
      "rougher.state.floatbank10_a_level                     16807 non-null float64\n",
      "rougher.state.floatbank10_b_air                       16807 non-null float64\n",
      "rougher.state.floatbank10_b_level                     16807 non-null float64\n",
      "rougher.state.floatbank10_c_air                       16807 non-null float64\n",
      "rougher.state.floatbank10_c_level                     16814 non-null float64\n",
      "rougher.state.floatbank10_d_air                       16802 non-null float64\n",
      "rougher.state.floatbank10_d_level                     16809 non-null float64\n",
      "rougher.state.floatbank10_e_air                       16257 non-null float64\n",
      "rougher.state.floatbank10_e_level                     16809 non-null float64\n",
      "rougher.state.floatbank10_f_air                       16802 non-null float64\n",
      "rougher.state.floatbank10_f_level                     16802 non-null float64\n",
      "secondary_cleaner.output.tail_ag                      16776 non-null float64\n",
      "secondary_cleaner.output.tail_pb                      16764 non-null float64\n",
      "secondary_cleaner.output.tail_sol                     14874 non-null float64\n",
      "secondary_cleaner.output.tail_au                      16778 non-null float64\n",
      "secondary_cleaner.state.floatbank2_a_air              16497 non-null float64\n",
      "secondary_cleaner.state.floatbank2_a_level            16751 non-null float64\n",
      "secondary_cleaner.state.floatbank2_b_air              16705 non-null float64\n",
      "secondary_cleaner.state.floatbank2_b_level            16748 non-null float64\n",
      "secondary_cleaner.state.floatbank3_a_air              16763 non-null float64\n",
      "secondary_cleaner.state.floatbank3_a_level            16747 non-null float64\n",
      "secondary_cleaner.state.floatbank3_b_air              16752 non-null float64\n",
      "secondary_cleaner.state.floatbank3_b_level            16750 non-null float64\n",
      "secondary_cleaner.state.floatbank4_a_air              16731 non-null float64\n",
      "secondary_cleaner.state.floatbank4_a_level            16747 non-null float64\n",
      "secondary_cleaner.state.floatbank4_b_air              16768 non-null float64\n",
      "secondary_cleaner.state.floatbank4_b_level            16767 non-null float64\n",
      "secondary_cleaner.state.floatbank5_a_air              16775 non-null float64\n",
      "secondary_cleaner.state.floatbank5_a_level            16775 non-null float64\n",
      "secondary_cleaner.state.floatbank5_b_air              16775 non-null float64\n",
      "secondary_cleaner.state.floatbank5_b_level            16776 non-null float64\n",
      "secondary_cleaner.state.floatbank6_a_air              16757 non-null float64\n",
      "secondary_cleaner.state.floatbank6_a_level            16775 non-null float64\n",
      "dtypes: float64(86), object(1)\n",
      "memory usage: 11.2+ MB\n"
     ]
    },
    {
     "data": {
      "text/plain": [
       "None"
      ]
     },
     "metadata": {},
     "output_type": "display_data"
    },
    {
     "name": "stdout",
     "output_type": "stream",
     "text": [
      "Количество пропусков: date                                            0\n",
      "final.output.concentrate_ag                    72\n",
      "final.output.concentrate_pb                    72\n",
      "final.output.concentrate_sol                  370\n",
      "final.output.concentrate_au                    71\n",
      "                                             ... \n",
      "secondary_cleaner.state.floatbank5_a_level     85\n",
      "secondary_cleaner.state.floatbank5_b_air       85\n",
      "secondary_cleaner.state.floatbank5_b_level     84\n",
      "secondary_cleaner.state.floatbank6_a_air      103\n",
      "secondary_cleaner.state.floatbank6_a_level     85\n",
      "Length: 87, dtype: int64\n",
      "Количество дубликатов: 0\n"
     ]
    },
    {
     "data": {
      "text/html": [
       "<div>\n",
       "<style scoped>\n",
       "    .dataframe tbody tr th:only-of-type {\n",
       "        vertical-align: middle;\n",
       "    }\n",
       "\n",
       "    .dataframe tbody tr th {\n",
       "        vertical-align: top;\n",
       "    }\n",
       "\n",
       "    .dataframe thead th {\n",
       "        text-align: right;\n",
       "    }\n",
       "</style>\n",
       "<table border=\"1\" class=\"dataframe\">\n",
       "  <thead>\n",
       "    <tr style=\"text-align: right;\">\n",
       "      <th></th>\n",
       "      <th>date</th>\n",
       "      <th>primary_cleaner.input.sulfate</th>\n",
       "      <th>primary_cleaner.input.depressant</th>\n",
       "      <th>primary_cleaner.input.feed_size</th>\n",
       "      <th>primary_cleaner.input.xanthate</th>\n",
       "      <th>primary_cleaner.state.floatbank8_a_air</th>\n",
       "      <th>primary_cleaner.state.floatbank8_a_level</th>\n",
       "      <th>primary_cleaner.state.floatbank8_b_air</th>\n",
       "      <th>primary_cleaner.state.floatbank8_b_level</th>\n",
       "      <th>primary_cleaner.state.floatbank8_c_air</th>\n",
       "      <th>...</th>\n",
       "      <th>secondary_cleaner.state.floatbank4_a_air</th>\n",
       "      <th>secondary_cleaner.state.floatbank4_a_level</th>\n",
       "      <th>secondary_cleaner.state.floatbank4_b_air</th>\n",
       "      <th>secondary_cleaner.state.floatbank4_b_level</th>\n",
       "      <th>secondary_cleaner.state.floatbank5_a_air</th>\n",
       "      <th>secondary_cleaner.state.floatbank5_a_level</th>\n",
       "      <th>secondary_cleaner.state.floatbank5_b_air</th>\n",
       "      <th>secondary_cleaner.state.floatbank5_b_level</th>\n",
       "      <th>secondary_cleaner.state.floatbank6_a_air</th>\n",
       "      <th>secondary_cleaner.state.floatbank6_a_level</th>\n",
       "    </tr>\n",
       "  </thead>\n",
       "  <tbody>\n",
       "    <tr>\n",
       "      <td>0</td>\n",
       "      <td>2016-09-01 00:59:59</td>\n",
       "      <td>210.800909</td>\n",
       "      <td>14.993118</td>\n",
       "      <td>8.080000</td>\n",
       "      <td>1.005021</td>\n",
       "      <td>1398.981301</td>\n",
       "      <td>-500.225577</td>\n",
       "      <td>1399.144926</td>\n",
       "      <td>-499.919735</td>\n",
       "      <td>1400.102998</td>\n",
       "      <td>...</td>\n",
       "      <td>12.023554</td>\n",
       "      <td>-497.795834</td>\n",
       "      <td>8.016656</td>\n",
       "      <td>-501.289139</td>\n",
       "      <td>7.946562</td>\n",
       "      <td>-432.317850</td>\n",
       "      <td>4.872511</td>\n",
       "      <td>-500.037437</td>\n",
       "      <td>26.705889</td>\n",
       "      <td>-499.709414</td>\n",
       "    </tr>\n",
       "    <tr>\n",
       "      <td>1</td>\n",
       "      <td>2016-09-01 01:59:59</td>\n",
       "      <td>215.392455</td>\n",
       "      <td>14.987471</td>\n",
       "      <td>8.080000</td>\n",
       "      <td>0.990469</td>\n",
       "      <td>1398.777912</td>\n",
       "      <td>-500.057435</td>\n",
       "      <td>1398.055362</td>\n",
       "      <td>-499.778182</td>\n",
       "      <td>1396.151033</td>\n",
       "      <td>...</td>\n",
       "      <td>12.058140</td>\n",
       "      <td>-498.695773</td>\n",
       "      <td>8.130979</td>\n",
       "      <td>-499.634209</td>\n",
       "      <td>7.958270</td>\n",
       "      <td>-525.839648</td>\n",
       "      <td>4.878850</td>\n",
       "      <td>-500.162375</td>\n",
       "      <td>25.019940</td>\n",
       "      <td>-499.819438</td>\n",
       "    </tr>\n",
       "    <tr>\n",
       "      <td>2</td>\n",
       "      <td>2016-09-01 02:59:59</td>\n",
       "      <td>215.259946</td>\n",
       "      <td>12.884934</td>\n",
       "      <td>7.786667</td>\n",
       "      <td>0.996043</td>\n",
       "      <td>1398.493666</td>\n",
       "      <td>-500.868360</td>\n",
       "      <td>1398.860436</td>\n",
       "      <td>-499.764529</td>\n",
       "      <td>1398.075709</td>\n",
       "      <td>...</td>\n",
       "      <td>11.962366</td>\n",
       "      <td>-498.767484</td>\n",
       "      <td>8.096893</td>\n",
       "      <td>-500.827423</td>\n",
       "      <td>8.071056</td>\n",
       "      <td>-500.801673</td>\n",
       "      <td>4.905125</td>\n",
       "      <td>-499.828510</td>\n",
       "      <td>24.994862</td>\n",
       "      <td>-500.622559</td>\n",
       "    </tr>\n",
       "    <tr>\n",
       "      <td>3</td>\n",
       "      <td>2016-09-01 03:59:59</td>\n",
       "      <td>215.336236</td>\n",
       "      <td>12.006805</td>\n",
       "      <td>7.640000</td>\n",
       "      <td>0.863514</td>\n",
       "      <td>1399.618111</td>\n",
       "      <td>-498.863574</td>\n",
       "      <td>1397.440120</td>\n",
       "      <td>-499.211024</td>\n",
       "      <td>1400.129303</td>\n",
       "      <td>...</td>\n",
       "      <td>12.033091</td>\n",
       "      <td>-498.350935</td>\n",
       "      <td>8.074946</td>\n",
       "      <td>-499.474407</td>\n",
       "      <td>7.897085</td>\n",
       "      <td>-500.868509</td>\n",
       "      <td>4.931400</td>\n",
       "      <td>-499.963623</td>\n",
       "      <td>24.948919</td>\n",
       "      <td>-498.709987</td>\n",
       "    </tr>\n",
       "    <tr>\n",
       "      <td>4</td>\n",
       "      <td>2016-09-01 04:59:59</td>\n",
       "      <td>199.099327</td>\n",
       "      <td>10.682530</td>\n",
       "      <td>7.530000</td>\n",
       "      <td>0.805575</td>\n",
       "      <td>1401.268123</td>\n",
       "      <td>-500.808305</td>\n",
       "      <td>1398.128818</td>\n",
       "      <td>-499.504543</td>\n",
       "      <td>1402.172226</td>\n",
       "      <td>...</td>\n",
       "      <td>12.025367</td>\n",
       "      <td>-500.786497</td>\n",
       "      <td>8.054678</td>\n",
       "      <td>-500.397500</td>\n",
       "      <td>8.107890</td>\n",
       "      <td>-509.526725</td>\n",
       "      <td>4.957674</td>\n",
       "      <td>-500.360026</td>\n",
       "      <td>25.003331</td>\n",
       "      <td>-500.856333</td>\n",
       "    </tr>\n",
       "  </tbody>\n",
       "</table>\n",
       "<p>5 rows × 53 columns</p>\n",
       "</div>"
      ],
      "text/plain": [
       "                  date  primary_cleaner.input.sulfate  \\\n",
       "0  2016-09-01 00:59:59                     210.800909   \n",
       "1  2016-09-01 01:59:59                     215.392455   \n",
       "2  2016-09-01 02:59:59                     215.259946   \n",
       "3  2016-09-01 03:59:59                     215.336236   \n",
       "4  2016-09-01 04:59:59                     199.099327   \n",
       "\n",
       "   primary_cleaner.input.depressant  primary_cleaner.input.feed_size  \\\n",
       "0                         14.993118                         8.080000   \n",
       "1                         14.987471                         8.080000   \n",
       "2                         12.884934                         7.786667   \n",
       "3                         12.006805                         7.640000   \n",
       "4                         10.682530                         7.530000   \n",
       "\n",
       "   primary_cleaner.input.xanthate  primary_cleaner.state.floatbank8_a_air  \\\n",
       "0                        1.005021                             1398.981301   \n",
       "1                        0.990469                             1398.777912   \n",
       "2                        0.996043                             1398.493666   \n",
       "3                        0.863514                             1399.618111   \n",
       "4                        0.805575                             1401.268123   \n",
       "\n",
       "   primary_cleaner.state.floatbank8_a_level  \\\n",
       "0                               -500.225577   \n",
       "1                               -500.057435   \n",
       "2                               -500.868360   \n",
       "3                               -498.863574   \n",
       "4                               -500.808305   \n",
       "\n",
       "   primary_cleaner.state.floatbank8_b_air  \\\n",
       "0                             1399.144926   \n",
       "1                             1398.055362   \n",
       "2                             1398.860436   \n",
       "3                             1397.440120   \n",
       "4                             1398.128818   \n",
       "\n",
       "   primary_cleaner.state.floatbank8_b_level  \\\n",
       "0                               -499.919735   \n",
       "1                               -499.778182   \n",
       "2                               -499.764529   \n",
       "3                               -499.211024   \n",
       "4                               -499.504543   \n",
       "\n",
       "   primary_cleaner.state.floatbank8_c_air  ...  \\\n",
       "0                             1400.102998  ...   \n",
       "1                             1396.151033  ...   \n",
       "2                             1398.075709  ...   \n",
       "3                             1400.129303  ...   \n",
       "4                             1402.172226  ...   \n",
       "\n",
       "   secondary_cleaner.state.floatbank4_a_air  \\\n",
       "0                                 12.023554   \n",
       "1                                 12.058140   \n",
       "2                                 11.962366   \n",
       "3                                 12.033091   \n",
       "4                                 12.025367   \n",
       "\n",
       "   secondary_cleaner.state.floatbank4_a_level  \\\n",
       "0                                 -497.795834   \n",
       "1                                 -498.695773   \n",
       "2                                 -498.767484   \n",
       "3                                 -498.350935   \n",
       "4                                 -500.786497   \n",
       "\n",
       "   secondary_cleaner.state.floatbank4_b_air  \\\n",
       "0                                  8.016656   \n",
       "1                                  8.130979   \n",
       "2                                  8.096893   \n",
       "3                                  8.074946   \n",
       "4                                  8.054678   \n",
       "\n",
       "   secondary_cleaner.state.floatbank4_b_level  \\\n",
       "0                                 -501.289139   \n",
       "1                                 -499.634209   \n",
       "2                                 -500.827423   \n",
       "3                                 -499.474407   \n",
       "4                                 -500.397500   \n",
       "\n",
       "   secondary_cleaner.state.floatbank5_a_air  \\\n",
       "0                                  7.946562   \n",
       "1                                  7.958270   \n",
       "2                                  8.071056   \n",
       "3                                  7.897085   \n",
       "4                                  8.107890   \n",
       "\n",
       "   secondary_cleaner.state.floatbank5_a_level  \\\n",
       "0                                 -432.317850   \n",
       "1                                 -525.839648   \n",
       "2                                 -500.801673   \n",
       "3                                 -500.868509   \n",
       "4                                 -509.526725   \n",
       "\n",
       "   secondary_cleaner.state.floatbank5_b_air  \\\n",
       "0                                  4.872511   \n",
       "1                                  4.878850   \n",
       "2                                  4.905125   \n",
       "3                                  4.931400   \n",
       "4                                  4.957674   \n",
       "\n",
       "   secondary_cleaner.state.floatbank5_b_level  \\\n",
       "0                                 -500.037437   \n",
       "1                                 -500.162375   \n",
       "2                                 -499.828510   \n",
       "3                                 -499.963623   \n",
       "4                                 -500.360026   \n",
       "\n",
       "   secondary_cleaner.state.floatbank6_a_air  \\\n",
       "0                                 26.705889   \n",
       "1                                 25.019940   \n",
       "2                                 24.994862   \n",
       "3                                 24.948919   \n",
       "4                                 25.003331   \n",
       "\n",
       "   secondary_cleaner.state.floatbank6_a_level  \n",
       "0                                 -499.709414  \n",
       "1                                 -499.819438  \n",
       "2                                 -500.622559  \n",
       "3                                 -498.709987  \n",
       "4                                 -500.856333  \n",
       "\n",
       "[5 rows x 53 columns]"
      ]
     },
     "metadata": {},
     "output_type": "display_data"
    },
    {
     "name": "stdout",
     "output_type": "stream",
     "text": [
      "<class 'pandas.core.frame.DataFrame'>\n",
      "RangeIndex: 5856 entries, 0 to 5855\n",
      "Data columns (total 53 columns):\n",
      "date                                          5856 non-null object\n",
      "primary_cleaner.input.sulfate                 5554 non-null float64\n",
      "primary_cleaner.input.depressant              5572 non-null float64\n",
      "primary_cleaner.input.feed_size               5856 non-null float64\n",
      "primary_cleaner.input.xanthate                5690 non-null float64\n",
      "primary_cleaner.state.floatbank8_a_air        5840 non-null float64\n",
      "primary_cleaner.state.floatbank8_a_level      5840 non-null float64\n",
      "primary_cleaner.state.floatbank8_b_air        5840 non-null float64\n",
      "primary_cleaner.state.floatbank8_b_level      5840 non-null float64\n",
      "primary_cleaner.state.floatbank8_c_air        5840 non-null float64\n",
      "primary_cleaner.state.floatbank8_c_level      5840 non-null float64\n",
      "primary_cleaner.state.floatbank8_d_air        5840 non-null float64\n",
      "primary_cleaner.state.floatbank8_d_level      5840 non-null float64\n",
      "rougher.input.feed_ag                         5840 non-null float64\n",
      "rougher.input.feed_pb                         5840 non-null float64\n",
      "rougher.input.feed_rate                       5816 non-null float64\n",
      "rougher.input.feed_size                       5834 non-null float64\n",
      "rougher.input.feed_sol                        5789 non-null float64\n",
      "rougher.input.feed_au                         5840 non-null float64\n",
      "rougher.input.floatbank10_sulfate             5599 non-null float64\n",
      "rougher.input.floatbank10_xanthate            5733 non-null float64\n",
      "rougher.input.floatbank11_sulfate             5801 non-null float64\n",
      "rougher.input.floatbank11_xanthate            5503 non-null float64\n",
      "rougher.state.floatbank10_a_air               5839 non-null float64\n",
      "rougher.state.floatbank10_a_level             5840 non-null float64\n",
      "rougher.state.floatbank10_b_air               5839 non-null float64\n",
      "rougher.state.floatbank10_b_level             5840 non-null float64\n",
      "rougher.state.floatbank10_c_air               5839 non-null float64\n",
      "rougher.state.floatbank10_c_level             5840 non-null float64\n",
      "rougher.state.floatbank10_d_air               5839 non-null float64\n",
      "rougher.state.floatbank10_d_level             5840 non-null float64\n",
      "rougher.state.floatbank10_e_air               5839 non-null float64\n",
      "rougher.state.floatbank10_e_level             5840 non-null float64\n",
      "rougher.state.floatbank10_f_air               5839 non-null float64\n",
      "rougher.state.floatbank10_f_level             5840 non-null float64\n",
      "secondary_cleaner.state.floatbank2_a_air      5836 non-null float64\n",
      "secondary_cleaner.state.floatbank2_a_level    5840 non-null float64\n",
      "secondary_cleaner.state.floatbank2_b_air      5833 non-null float64\n",
      "secondary_cleaner.state.floatbank2_b_level    5840 non-null float64\n",
      "secondary_cleaner.state.floatbank3_a_air      5822 non-null float64\n",
      "secondary_cleaner.state.floatbank3_a_level    5840 non-null float64\n",
      "secondary_cleaner.state.floatbank3_b_air      5840 non-null float64\n",
      "secondary_cleaner.state.floatbank3_b_level    5840 non-null float64\n",
      "secondary_cleaner.state.floatbank4_a_air      5840 non-null float64\n",
      "secondary_cleaner.state.floatbank4_a_level    5840 non-null float64\n",
      "secondary_cleaner.state.floatbank4_b_air      5840 non-null float64\n",
      "secondary_cleaner.state.floatbank4_b_level    5840 non-null float64\n",
      "secondary_cleaner.state.floatbank5_a_air      5840 non-null float64\n",
      "secondary_cleaner.state.floatbank5_a_level    5840 non-null float64\n",
      "secondary_cleaner.state.floatbank5_b_air      5840 non-null float64\n",
      "secondary_cleaner.state.floatbank5_b_level    5840 non-null float64\n",
      "secondary_cleaner.state.floatbank6_a_air      5840 non-null float64\n",
      "secondary_cleaner.state.floatbank6_a_level    5840 non-null float64\n",
      "dtypes: float64(52), object(1)\n",
      "memory usage: 2.4+ MB\n"
     ]
    },
    {
     "data": {
      "text/plain": [
       "None"
      ]
     },
     "metadata": {},
     "output_type": "display_data"
    },
    {
     "name": "stdout",
     "output_type": "stream",
     "text": [
      "Количество пропусков: date                                            0\n",
      "primary_cleaner.input.sulfate                 302\n",
      "primary_cleaner.input.depressant              284\n",
      "primary_cleaner.input.feed_size                 0\n",
      "primary_cleaner.input.xanthate                166\n",
      "primary_cleaner.state.floatbank8_a_air         16\n",
      "primary_cleaner.state.floatbank8_a_level       16\n",
      "primary_cleaner.state.floatbank8_b_air         16\n",
      "primary_cleaner.state.floatbank8_b_level       16\n",
      "primary_cleaner.state.floatbank8_c_air         16\n",
      "primary_cleaner.state.floatbank8_c_level       16\n",
      "primary_cleaner.state.floatbank8_d_air         16\n",
      "primary_cleaner.state.floatbank8_d_level       16\n",
      "rougher.input.feed_ag                          16\n",
      "rougher.input.feed_pb                          16\n",
      "rougher.input.feed_rate                        40\n",
      "rougher.input.feed_size                        22\n",
      "rougher.input.feed_sol                         67\n",
      "rougher.input.feed_au                          16\n",
      "rougher.input.floatbank10_sulfate             257\n",
      "rougher.input.floatbank10_xanthate            123\n",
      "rougher.input.floatbank11_sulfate              55\n",
      "rougher.input.floatbank11_xanthate            353\n",
      "rougher.state.floatbank10_a_air                17\n",
      "rougher.state.floatbank10_a_level              16\n",
      "rougher.state.floatbank10_b_air                17\n",
      "rougher.state.floatbank10_b_level              16\n",
      "rougher.state.floatbank10_c_air                17\n",
      "rougher.state.floatbank10_c_level              16\n",
      "rougher.state.floatbank10_d_air                17\n",
      "rougher.state.floatbank10_d_level              16\n",
      "rougher.state.floatbank10_e_air                17\n",
      "rougher.state.floatbank10_e_level              16\n",
      "rougher.state.floatbank10_f_air                17\n",
      "rougher.state.floatbank10_f_level              16\n",
      "secondary_cleaner.state.floatbank2_a_air       20\n",
      "secondary_cleaner.state.floatbank2_a_level     16\n",
      "secondary_cleaner.state.floatbank2_b_air       23\n",
      "secondary_cleaner.state.floatbank2_b_level     16\n",
      "secondary_cleaner.state.floatbank3_a_air       34\n",
      "secondary_cleaner.state.floatbank3_a_level     16\n",
      "secondary_cleaner.state.floatbank3_b_air       16\n",
      "secondary_cleaner.state.floatbank3_b_level     16\n",
      "secondary_cleaner.state.floatbank4_a_air       16\n",
      "secondary_cleaner.state.floatbank4_a_level     16\n",
      "secondary_cleaner.state.floatbank4_b_air       16\n",
      "secondary_cleaner.state.floatbank4_b_level     16\n",
      "secondary_cleaner.state.floatbank5_a_air       16\n",
      "secondary_cleaner.state.floatbank5_a_level     16\n",
      "secondary_cleaner.state.floatbank5_b_air       16\n",
      "secondary_cleaner.state.floatbank5_b_level     16\n",
      "secondary_cleaner.state.floatbank6_a_air       16\n",
      "secondary_cleaner.state.floatbank6_a_level     16\n",
      "dtype: int64\n",
      "Количество дубликатов: 0\n"
     ]
    }
   ],
   "source": [
    "data_full = data_read('/datasets/gold_recovery_full.csv')\n",
    "data_train = data_read('/datasets/gold_recovery_train.csv')\n",
    "data_test = data_read('/datasets/gold_recovery_test.csv')"
   ]
  },
  {
   "cell_type": "markdown",
   "metadata": {},
   "source": [
    "Дубликатов нет, пропусками займемся позже. Лишних столбцов, видимо, будет много."
   ]
  },
  {
   "cell_type": "code",
   "execution_count": 4,
   "metadata": {
    "scrolled": true
   },
   "outputs": [
    {
     "data": {
      "text/plain": [
       "rougher.output.recovery    3119\n",
       "final.output.recovery      1963\n",
       "dtype: int64"
      ]
     },
     "metadata": {},
     "output_type": "display_data"
    },
    {
     "data": {
      "text/plain": [
       "rougher.output.recovery    2573\n",
       "final.output.recovery      1521\n",
       "dtype: int64"
      ]
     },
     "metadata": {},
     "output_type": "display_data"
    }
   ],
   "source": [
    "display(data_full[['rougher.output.recovery','final.output.recovery']].isna().sum())\n",
    "display(data_train[['rougher.output.recovery','final.output.recovery']].isna().sum())"
   ]
  },
  {
   "cell_type": "code",
   "execution_count": 5,
   "metadata": {},
   "outputs": [],
   "source": [
    "data_full.dropna(subset=['rougher.output.recovery', 'final.output.recovery'], inplace=True)\n",
    "data_train.dropna(subset=['rougher.output.recovery', 'final.output.recovery'], inplace=True)"
   ]
  },
  {
   "cell_type": "code",
   "execution_count": 6,
   "metadata": {},
   "outputs": [],
   "source": [
    "pd.set_option('display.max_rows', None)"
   ]
  },
  {
   "cell_type": "code",
   "execution_count": 7,
   "metadata": {
    "scrolled": false
   },
   "outputs": [],
   "source": [
    "def clean(data):\n",
    "    display(data.isna().sum())\n",
    "    shape_0 = data.shape[0]\n",
    "    print('Изначальный размер', shape_0)\n",
    "    data.fillna(method='ffill', inplace=True)\n",
    "    data.dropna(inplace=True)\n",
    "    display(data.isna().sum())\n",
    "    print('Удалено незамененных данных', shape_0 - data.shape[0])"
   ]
  },
  {
   "cell_type": "code",
   "execution_count": 8,
   "metadata": {
    "scrolled": true
   },
   "outputs": [
    {
     "data": {
      "text/plain": [
       "date                                                     0\n",
       "final.output.concentrate_ag                              1\n",
       "final.output.concentrate_pb                              1\n",
       "final.output.concentrate_sol                           211\n",
       "final.output.concentrate_au                              0\n",
       "final.output.recovery                                    0\n",
       "final.output.tail_ag                                     1\n",
       "final.output.tail_pb                                   101\n",
       "final.output.tail_sol                                    6\n",
       "final.output.tail_au                                     0\n",
       "primary_cleaner.input.sulfate                           24\n",
       "primary_cleaner.input.depressant                        37\n",
       "primary_cleaner.input.feed_size                          0\n",
       "primary_cleaner.input.xanthate                         104\n",
       "primary_cleaner.output.concentrate_ag                    0\n",
       "primary_cleaner.output.concentrate_pb                  116\n",
       "primary_cleaner.output.concentrate_sol                 370\n",
       "primary_cleaner.output.concentrate_au                    0\n",
       "primary_cleaner.output.tail_ag                           4\n",
       "primary_cleaner.output.tail_pb                          21\n",
       "primary_cleaner.output.tail_sol                         62\n",
       "primary_cleaner.output.tail_au                           0\n",
       "primary_cleaner.state.floatbank8_a_air                   4\n",
       "primary_cleaner.state.floatbank8_a_level                 1\n",
       "primary_cleaner.state.floatbank8_b_air                   4\n",
       "primary_cleaner.state.floatbank8_b_level                 1\n",
       "primary_cleaner.state.floatbank8_c_air                   2\n",
       "primary_cleaner.state.floatbank8_c_level                 1\n",
       "primary_cleaner.state.floatbank8_d_air                   3\n",
       "primary_cleaner.state.floatbank8_d_level                 1\n",
       "rougher.calculation.sulfate_to_au_concentrate            2\n",
       "rougher.calculation.floatbank10_sulfate_to_au_feed       2\n",
       "rougher.calculation.floatbank11_sulfate_to_au_feed       2\n",
       "rougher.calculation.au_pb_ratio                          0\n",
       "rougher.input.feed_ag                                    0\n",
       "rougher.input.feed_pb                                  100\n",
       "rougher.input.feed_rate                                 11\n",
       "rougher.input.feed_size                                145\n",
       "rougher.input.feed_sol                                  99\n",
       "rougher.input.feed_au                                    0\n",
       "rougher.input.floatbank10_sulfate                       34\n",
       "rougher.input.floatbank10_xanthate                       8\n",
       "rougher.input.floatbank11_sulfate                       44\n",
       "rougher.input.floatbank11_xanthate                     453\n",
       "rougher.output.concentrate_ag                            0\n",
       "rougher.output.concentrate_pb                            0\n",
       "rougher.output.concentrate_sol                          23\n",
       "rougher.output.concentrate_au                            0\n",
       "rougher.output.recovery                                  0\n",
       "rougher.output.tail_ag                                   1\n",
       "rougher.output.tail_pb                                   0\n",
       "rougher.output.tail_sol                                  0\n",
       "rougher.output.tail_au                                   0\n",
       "rougher.state.floatbank10_a_air                          1\n",
       "rougher.state.floatbank10_a_level                        1\n",
       "rougher.state.floatbank10_b_air                          1\n",
       "rougher.state.floatbank10_b_level                        1\n",
       "rougher.state.floatbank10_c_air                          1\n",
       "rougher.state.floatbank10_c_level                        1\n",
       "rougher.state.floatbank10_d_air                          0\n",
       "rougher.state.floatbank10_d_level                        0\n",
       "rougher.state.floatbank10_e_air                        436\n",
       "rougher.state.floatbank10_e_level                        0\n",
       "rougher.state.floatbank10_f_air                          0\n",
       "rougher.state.floatbank10_f_level                        0\n",
       "secondary_cleaner.output.tail_ag                         2\n",
       "secondary_cleaner.output.tail_pb                        12\n",
       "secondary_cleaner.output.tail_sol                     1748\n",
       "secondary_cleaner.output.tail_au                         0\n",
       "secondary_cleaner.state.floatbank2_a_air               220\n",
       "secondary_cleaner.state.floatbank2_a_level               1\n",
       "secondary_cleaner.state.floatbank2_b_air                23\n",
       "secondary_cleaner.state.floatbank2_b_level               1\n",
       "secondary_cleaner.state.floatbank3_a_air                13\n",
       "secondary_cleaner.state.floatbank3_a_level               1\n",
       "secondary_cleaner.state.floatbank3_b_air                 1\n",
       "secondary_cleaner.state.floatbank3_b_level               1\n",
       "secondary_cleaner.state.floatbank4_a_air                 6\n",
       "secondary_cleaner.state.floatbank4_a_level               1\n",
       "secondary_cleaner.state.floatbank4_b_air                 1\n",
       "secondary_cleaner.state.floatbank4_b_level               1\n",
       "secondary_cleaner.state.floatbank5_a_air                 1\n",
       "secondary_cleaner.state.floatbank5_a_level               1\n",
       "secondary_cleaner.state.floatbank5_b_air                 1\n",
       "secondary_cleaner.state.floatbank5_b_level               1\n",
       "secondary_cleaner.state.floatbank6_a_air                 2\n",
       "secondary_cleaner.state.floatbank6_a_level               1\n",
       "dtype: int64"
      ]
     },
     "metadata": {},
     "output_type": "display_data"
    },
    {
     "name": "stdout",
     "output_type": "stream",
     "text": [
      "Изначальный размер 19439\n"
     ]
    },
    {
     "data": {
      "text/plain": [
       "date                                                  0\n",
       "final.output.concentrate_ag                           0\n",
       "final.output.concentrate_pb                           0\n",
       "final.output.concentrate_sol                          0\n",
       "final.output.concentrate_au                           0\n",
       "final.output.recovery                                 0\n",
       "final.output.tail_ag                                  0\n",
       "final.output.tail_pb                                  0\n",
       "final.output.tail_sol                                 0\n",
       "final.output.tail_au                                  0\n",
       "primary_cleaner.input.sulfate                         0\n",
       "primary_cleaner.input.depressant                      0\n",
       "primary_cleaner.input.feed_size                       0\n",
       "primary_cleaner.input.xanthate                        0\n",
       "primary_cleaner.output.concentrate_ag                 0\n",
       "primary_cleaner.output.concentrate_pb                 0\n",
       "primary_cleaner.output.concentrate_sol                0\n",
       "primary_cleaner.output.concentrate_au                 0\n",
       "primary_cleaner.output.tail_ag                        0\n",
       "primary_cleaner.output.tail_pb                        0\n",
       "primary_cleaner.output.tail_sol                       0\n",
       "primary_cleaner.output.tail_au                        0\n",
       "primary_cleaner.state.floatbank8_a_air                0\n",
       "primary_cleaner.state.floatbank8_a_level              0\n",
       "primary_cleaner.state.floatbank8_b_air                0\n",
       "primary_cleaner.state.floatbank8_b_level              0\n",
       "primary_cleaner.state.floatbank8_c_air                0\n",
       "primary_cleaner.state.floatbank8_c_level              0\n",
       "primary_cleaner.state.floatbank8_d_air                0\n",
       "primary_cleaner.state.floatbank8_d_level              0\n",
       "rougher.calculation.sulfate_to_au_concentrate         0\n",
       "rougher.calculation.floatbank10_sulfate_to_au_feed    0\n",
       "rougher.calculation.floatbank11_sulfate_to_au_feed    0\n",
       "rougher.calculation.au_pb_ratio                       0\n",
       "rougher.input.feed_ag                                 0\n",
       "rougher.input.feed_pb                                 0\n",
       "rougher.input.feed_rate                               0\n",
       "rougher.input.feed_size                               0\n",
       "rougher.input.feed_sol                                0\n",
       "rougher.input.feed_au                                 0\n",
       "rougher.input.floatbank10_sulfate                     0\n",
       "rougher.input.floatbank10_xanthate                    0\n",
       "rougher.input.floatbank11_sulfate                     0\n",
       "rougher.input.floatbank11_xanthate                    0\n",
       "rougher.output.concentrate_ag                         0\n",
       "rougher.output.concentrate_pb                         0\n",
       "rougher.output.concentrate_sol                        0\n",
       "rougher.output.concentrate_au                         0\n",
       "rougher.output.recovery                               0\n",
       "rougher.output.tail_ag                                0\n",
       "rougher.output.tail_pb                                0\n",
       "rougher.output.tail_sol                               0\n",
       "rougher.output.tail_au                                0\n",
       "rougher.state.floatbank10_a_air                       0\n",
       "rougher.state.floatbank10_a_level                     0\n",
       "rougher.state.floatbank10_b_air                       0\n",
       "rougher.state.floatbank10_b_level                     0\n",
       "rougher.state.floatbank10_c_air                       0\n",
       "rougher.state.floatbank10_c_level                     0\n",
       "rougher.state.floatbank10_d_air                       0\n",
       "rougher.state.floatbank10_d_level                     0\n",
       "rougher.state.floatbank10_e_air                       0\n",
       "rougher.state.floatbank10_e_level                     0\n",
       "rougher.state.floatbank10_f_air                       0\n",
       "rougher.state.floatbank10_f_level                     0\n",
       "secondary_cleaner.output.tail_ag                      0\n",
       "secondary_cleaner.output.tail_pb                      0\n",
       "secondary_cleaner.output.tail_sol                     0\n",
       "secondary_cleaner.output.tail_au                      0\n",
       "secondary_cleaner.state.floatbank2_a_air              0\n",
       "secondary_cleaner.state.floatbank2_a_level            0\n",
       "secondary_cleaner.state.floatbank2_b_air              0\n",
       "secondary_cleaner.state.floatbank2_b_level            0\n",
       "secondary_cleaner.state.floatbank3_a_air              0\n",
       "secondary_cleaner.state.floatbank3_a_level            0\n",
       "secondary_cleaner.state.floatbank3_b_air              0\n",
       "secondary_cleaner.state.floatbank3_b_level            0\n",
       "secondary_cleaner.state.floatbank4_a_air              0\n",
       "secondary_cleaner.state.floatbank4_a_level            0\n",
       "secondary_cleaner.state.floatbank4_b_air              0\n",
       "secondary_cleaner.state.floatbank4_b_level            0\n",
       "secondary_cleaner.state.floatbank5_a_air              0\n",
       "secondary_cleaner.state.floatbank5_a_level            0\n",
       "secondary_cleaner.state.floatbank5_b_air              0\n",
       "secondary_cleaner.state.floatbank5_b_level            0\n",
       "secondary_cleaner.state.floatbank6_a_air              0\n",
       "secondary_cleaner.state.floatbank6_a_level            0\n",
       "dtype: int64"
      ]
     },
     "metadata": {},
     "output_type": "display_data"
    },
    {
     "name": "stdout",
     "output_type": "stream",
     "text": [
      "Удалено незамененных данных 0\n"
     ]
    }
   ],
   "source": [
    "clean(data_full)"
   ]
  },
  {
   "cell_type": "code",
   "execution_count": 9,
   "metadata": {
    "scrolled": true
   },
   "outputs": [
    {
     "data": {
      "text/plain": [
       "date                                                     0\n",
       "final.output.concentrate_ag                              1\n",
       "final.output.concentrate_pb                              1\n",
       "final.output.concentrate_sol                           211\n",
       "final.output.concentrate_au                              0\n",
       "final.output.recovery                                    0\n",
       "final.output.tail_ag                                     0\n",
       "final.output.tail_pb                                   100\n",
       "final.output.tail_sol                                    5\n",
       "final.output.tail_au                                     0\n",
       "primary_cleaner.input.sulfate                           20\n",
       "primary_cleaner.input.depressant                        32\n",
       "primary_cleaner.input.feed_size                          0\n",
       "primary_cleaner.input.xanthate                         100\n",
       "primary_cleaner.output.concentrate_ag                    0\n",
       "primary_cleaner.output.concentrate_pb                   86\n",
       "primary_cleaner.output.concentrate_sol                 286\n",
       "primary_cleaner.output.concentrate_au                    0\n",
       "primary_cleaner.output.tail_ag                           1\n",
       "primary_cleaner.output.tail_pb                          15\n",
       "primary_cleaner.output.tail_sol                         46\n",
       "primary_cleaner.output.tail_au                           0\n",
       "primary_cleaner.state.floatbank8_a_air                   4\n",
       "primary_cleaner.state.floatbank8_a_level                 1\n",
       "primary_cleaner.state.floatbank8_b_air                   4\n",
       "primary_cleaner.state.floatbank8_b_level                 1\n",
       "primary_cleaner.state.floatbank8_c_air                   2\n",
       "primary_cleaner.state.floatbank8_c_level                 1\n",
       "primary_cleaner.state.floatbank8_d_air                   3\n",
       "primary_cleaner.state.floatbank8_d_level                 1\n",
       "rougher.calculation.sulfate_to_au_concentrate            1\n",
       "rougher.calculation.floatbank10_sulfate_to_au_feed       1\n",
       "rougher.calculation.floatbank11_sulfate_to_au_feed       1\n",
       "rougher.calculation.au_pb_ratio                          0\n",
       "rougher.input.feed_ag                                    0\n",
       "rougher.input.feed_pb                                  100\n",
       "rougher.input.feed_rate                                  8\n",
       "rougher.input.feed_size                                144\n",
       "rougher.input.feed_sol                                  78\n",
       "rougher.input.feed_au                                    0\n",
       "rougher.input.floatbank10_sulfate                       29\n",
       "rougher.input.floatbank10_xanthate                       8\n",
       "rougher.input.floatbank11_sulfate                       36\n",
       "rougher.input.floatbank11_xanthate                     428\n",
       "rougher.output.concentrate_ag                            0\n",
       "rougher.output.concentrate_pb                            0\n",
       "rougher.output.concentrate_sol                          22\n",
       "rougher.output.concentrate_au                            0\n",
       "rougher.output.recovery                                  0\n",
       "rougher.output.tail_ag                                   1\n",
       "rougher.output.tail_pb                                   0\n",
       "rougher.output.tail_sol                                  0\n",
       "rougher.output.tail_au                                   0\n",
       "rougher.state.floatbank10_a_air                          1\n",
       "rougher.state.floatbank10_a_level                        1\n",
       "rougher.state.floatbank10_b_air                          1\n",
       "rougher.state.floatbank10_b_level                        1\n",
       "rougher.state.floatbank10_c_air                          1\n",
       "rougher.state.floatbank10_c_level                        1\n",
       "rougher.state.floatbank10_d_air                          0\n",
       "rougher.state.floatbank10_d_level                        0\n",
       "rougher.state.floatbank10_e_air                        436\n",
       "rougher.state.floatbank10_e_level                        0\n",
       "rougher.state.floatbank10_f_air                          0\n",
       "rougher.state.floatbank10_f_level                        0\n",
       "secondary_cleaner.output.tail_ag                         2\n",
       "secondary_cleaner.output.tail_pb                        10\n",
       "secondary_cleaner.output.tail_sol                     1605\n",
       "secondary_cleaner.output.tail_au                         0\n",
       "secondary_cleaner.state.floatbank2_a_air               217\n",
       "secondary_cleaner.state.floatbank2_a_level               1\n",
       "secondary_cleaner.state.floatbank2_b_air                21\n",
       "secondary_cleaner.state.floatbank2_b_level               1\n",
       "secondary_cleaner.state.floatbank3_a_air                 4\n",
       "secondary_cleaner.state.floatbank3_a_level               1\n",
       "secondary_cleaner.state.floatbank3_b_air                 1\n",
       "secondary_cleaner.state.floatbank3_b_level               1\n",
       "secondary_cleaner.state.floatbank4_a_air                 6\n",
       "secondary_cleaner.state.floatbank4_a_level               1\n",
       "secondary_cleaner.state.floatbank4_b_air                 1\n",
       "secondary_cleaner.state.floatbank4_b_level               1\n",
       "secondary_cleaner.state.floatbank5_a_air                 1\n",
       "secondary_cleaner.state.floatbank5_a_level               1\n",
       "secondary_cleaner.state.floatbank5_b_air                 1\n",
       "secondary_cleaner.state.floatbank5_b_level               1\n",
       "secondary_cleaner.state.floatbank6_a_air                 2\n",
       "secondary_cleaner.state.floatbank6_a_level               1\n",
       "dtype: int64"
      ]
     },
     "metadata": {},
     "output_type": "display_data"
    },
    {
     "name": "stdout",
     "output_type": "stream",
     "text": [
      "Изначальный размер 14149\n"
     ]
    },
    {
     "data": {
      "text/plain": [
       "date                                                  0\n",
       "final.output.concentrate_ag                           0\n",
       "final.output.concentrate_pb                           0\n",
       "final.output.concentrate_sol                          0\n",
       "final.output.concentrate_au                           0\n",
       "final.output.recovery                                 0\n",
       "final.output.tail_ag                                  0\n",
       "final.output.tail_pb                                  0\n",
       "final.output.tail_sol                                 0\n",
       "final.output.tail_au                                  0\n",
       "primary_cleaner.input.sulfate                         0\n",
       "primary_cleaner.input.depressant                      0\n",
       "primary_cleaner.input.feed_size                       0\n",
       "primary_cleaner.input.xanthate                        0\n",
       "primary_cleaner.output.concentrate_ag                 0\n",
       "primary_cleaner.output.concentrate_pb                 0\n",
       "primary_cleaner.output.concentrate_sol                0\n",
       "primary_cleaner.output.concentrate_au                 0\n",
       "primary_cleaner.output.tail_ag                        0\n",
       "primary_cleaner.output.tail_pb                        0\n",
       "primary_cleaner.output.tail_sol                       0\n",
       "primary_cleaner.output.tail_au                        0\n",
       "primary_cleaner.state.floatbank8_a_air                0\n",
       "primary_cleaner.state.floatbank8_a_level              0\n",
       "primary_cleaner.state.floatbank8_b_air                0\n",
       "primary_cleaner.state.floatbank8_b_level              0\n",
       "primary_cleaner.state.floatbank8_c_air                0\n",
       "primary_cleaner.state.floatbank8_c_level              0\n",
       "primary_cleaner.state.floatbank8_d_air                0\n",
       "primary_cleaner.state.floatbank8_d_level              0\n",
       "rougher.calculation.sulfate_to_au_concentrate         0\n",
       "rougher.calculation.floatbank10_sulfate_to_au_feed    0\n",
       "rougher.calculation.floatbank11_sulfate_to_au_feed    0\n",
       "rougher.calculation.au_pb_ratio                       0\n",
       "rougher.input.feed_ag                                 0\n",
       "rougher.input.feed_pb                                 0\n",
       "rougher.input.feed_rate                               0\n",
       "rougher.input.feed_size                               0\n",
       "rougher.input.feed_sol                                0\n",
       "rougher.input.feed_au                                 0\n",
       "rougher.input.floatbank10_sulfate                     0\n",
       "rougher.input.floatbank10_xanthate                    0\n",
       "rougher.input.floatbank11_sulfate                     0\n",
       "rougher.input.floatbank11_xanthate                    0\n",
       "rougher.output.concentrate_ag                         0\n",
       "rougher.output.concentrate_pb                         0\n",
       "rougher.output.concentrate_sol                        0\n",
       "rougher.output.concentrate_au                         0\n",
       "rougher.output.recovery                               0\n",
       "rougher.output.tail_ag                                0\n",
       "rougher.output.tail_pb                                0\n",
       "rougher.output.tail_sol                               0\n",
       "rougher.output.tail_au                                0\n",
       "rougher.state.floatbank10_a_air                       0\n",
       "rougher.state.floatbank10_a_level                     0\n",
       "rougher.state.floatbank10_b_air                       0\n",
       "rougher.state.floatbank10_b_level                     0\n",
       "rougher.state.floatbank10_c_air                       0\n",
       "rougher.state.floatbank10_c_level                     0\n",
       "rougher.state.floatbank10_d_air                       0\n",
       "rougher.state.floatbank10_d_level                     0\n",
       "rougher.state.floatbank10_e_air                       0\n",
       "rougher.state.floatbank10_e_level                     0\n",
       "rougher.state.floatbank10_f_air                       0\n",
       "rougher.state.floatbank10_f_level                     0\n",
       "secondary_cleaner.output.tail_ag                      0\n",
       "secondary_cleaner.output.tail_pb                      0\n",
       "secondary_cleaner.output.tail_sol                     0\n",
       "secondary_cleaner.output.tail_au                      0\n",
       "secondary_cleaner.state.floatbank2_a_air              0\n",
       "secondary_cleaner.state.floatbank2_a_level            0\n",
       "secondary_cleaner.state.floatbank2_b_air              0\n",
       "secondary_cleaner.state.floatbank2_b_level            0\n",
       "secondary_cleaner.state.floatbank3_a_air              0\n",
       "secondary_cleaner.state.floatbank3_a_level            0\n",
       "secondary_cleaner.state.floatbank3_b_air              0\n",
       "secondary_cleaner.state.floatbank3_b_level            0\n",
       "secondary_cleaner.state.floatbank4_a_air              0\n",
       "secondary_cleaner.state.floatbank4_a_level            0\n",
       "secondary_cleaner.state.floatbank4_b_air              0\n",
       "secondary_cleaner.state.floatbank4_b_level            0\n",
       "secondary_cleaner.state.floatbank5_a_air              0\n",
       "secondary_cleaner.state.floatbank5_a_level            0\n",
       "secondary_cleaner.state.floatbank5_b_air              0\n",
       "secondary_cleaner.state.floatbank5_b_level            0\n",
       "secondary_cleaner.state.floatbank6_a_air              0\n",
       "secondary_cleaner.state.floatbank6_a_level            0\n",
       "dtype: int64"
      ]
     },
     "metadata": {},
     "output_type": "display_data"
    },
    {
     "name": "stdout",
     "output_type": "stream",
     "text": [
      "Удалено незамененных данных 0\n"
     ]
    }
   ],
   "source": [
    "clean(data_train)"
   ]
  },
  {
   "cell_type": "code",
   "execution_count": 10,
   "metadata": {
    "scrolled": true
   },
   "outputs": [
    {
     "data": {
      "text/plain": [
       "date                                            0\n",
       "primary_cleaner.input.sulfate                 302\n",
       "primary_cleaner.input.depressant              284\n",
       "primary_cleaner.input.feed_size                 0\n",
       "primary_cleaner.input.xanthate                166\n",
       "primary_cleaner.state.floatbank8_a_air         16\n",
       "primary_cleaner.state.floatbank8_a_level       16\n",
       "primary_cleaner.state.floatbank8_b_air         16\n",
       "primary_cleaner.state.floatbank8_b_level       16\n",
       "primary_cleaner.state.floatbank8_c_air         16\n",
       "primary_cleaner.state.floatbank8_c_level       16\n",
       "primary_cleaner.state.floatbank8_d_air         16\n",
       "primary_cleaner.state.floatbank8_d_level       16\n",
       "rougher.input.feed_ag                          16\n",
       "rougher.input.feed_pb                          16\n",
       "rougher.input.feed_rate                        40\n",
       "rougher.input.feed_size                        22\n",
       "rougher.input.feed_sol                         67\n",
       "rougher.input.feed_au                          16\n",
       "rougher.input.floatbank10_sulfate             257\n",
       "rougher.input.floatbank10_xanthate            123\n",
       "rougher.input.floatbank11_sulfate              55\n",
       "rougher.input.floatbank11_xanthate            353\n",
       "rougher.state.floatbank10_a_air                17\n",
       "rougher.state.floatbank10_a_level              16\n",
       "rougher.state.floatbank10_b_air                17\n",
       "rougher.state.floatbank10_b_level              16\n",
       "rougher.state.floatbank10_c_air                17\n",
       "rougher.state.floatbank10_c_level              16\n",
       "rougher.state.floatbank10_d_air                17\n",
       "rougher.state.floatbank10_d_level              16\n",
       "rougher.state.floatbank10_e_air                17\n",
       "rougher.state.floatbank10_e_level              16\n",
       "rougher.state.floatbank10_f_air                17\n",
       "rougher.state.floatbank10_f_level              16\n",
       "secondary_cleaner.state.floatbank2_a_air       20\n",
       "secondary_cleaner.state.floatbank2_a_level     16\n",
       "secondary_cleaner.state.floatbank2_b_air       23\n",
       "secondary_cleaner.state.floatbank2_b_level     16\n",
       "secondary_cleaner.state.floatbank3_a_air       34\n",
       "secondary_cleaner.state.floatbank3_a_level     16\n",
       "secondary_cleaner.state.floatbank3_b_air       16\n",
       "secondary_cleaner.state.floatbank3_b_level     16\n",
       "secondary_cleaner.state.floatbank4_a_air       16\n",
       "secondary_cleaner.state.floatbank4_a_level     16\n",
       "secondary_cleaner.state.floatbank4_b_air       16\n",
       "secondary_cleaner.state.floatbank4_b_level     16\n",
       "secondary_cleaner.state.floatbank5_a_air       16\n",
       "secondary_cleaner.state.floatbank5_a_level     16\n",
       "secondary_cleaner.state.floatbank5_b_air       16\n",
       "secondary_cleaner.state.floatbank5_b_level     16\n",
       "secondary_cleaner.state.floatbank6_a_air       16\n",
       "secondary_cleaner.state.floatbank6_a_level     16\n",
       "dtype: int64"
      ]
     },
     "metadata": {},
     "output_type": "display_data"
    },
    {
     "name": "stdout",
     "output_type": "stream",
     "text": [
      "Изначальный размер 5856\n"
     ]
    },
    {
     "data": {
      "text/plain": [
       "date                                          0\n",
       "primary_cleaner.input.sulfate                 0\n",
       "primary_cleaner.input.depressant              0\n",
       "primary_cleaner.input.feed_size               0\n",
       "primary_cleaner.input.xanthate                0\n",
       "primary_cleaner.state.floatbank8_a_air        0\n",
       "primary_cleaner.state.floatbank8_a_level      0\n",
       "primary_cleaner.state.floatbank8_b_air        0\n",
       "primary_cleaner.state.floatbank8_b_level      0\n",
       "primary_cleaner.state.floatbank8_c_air        0\n",
       "primary_cleaner.state.floatbank8_c_level      0\n",
       "primary_cleaner.state.floatbank8_d_air        0\n",
       "primary_cleaner.state.floatbank8_d_level      0\n",
       "rougher.input.feed_ag                         0\n",
       "rougher.input.feed_pb                         0\n",
       "rougher.input.feed_rate                       0\n",
       "rougher.input.feed_size                       0\n",
       "rougher.input.feed_sol                        0\n",
       "rougher.input.feed_au                         0\n",
       "rougher.input.floatbank10_sulfate             0\n",
       "rougher.input.floatbank10_xanthate            0\n",
       "rougher.input.floatbank11_sulfate             0\n",
       "rougher.input.floatbank11_xanthate            0\n",
       "rougher.state.floatbank10_a_air               0\n",
       "rougher.state.floatbank10_a_level             0\n",
       "rougher.state.floatbank10_b_air               0\n",
       "rougher.state.floatbank10_b_level             0\n",
       "rougher.state.floatbank10_c_air               0\n",
       "rougher.state.floatbank10_c_level             0\n",
       "rougher.state.floatbank10_d_air               0\n",
       "rougher.state.floatbank10_d_level             0\n",
       "rougher.state.floatbank10_e_air               0\n",
       "rougher.state.floatbank10_e_level             0\n",
       "rougher.state.floatbank10_f_air               0\n",
       "rougher.state.floatbank10_f_level             0\n",
       "secondary_cleaner.state.floatbank2_a_air      0\n",
       "secondary_cleaner.state.floatbank2_a_level    0\n",
       "secondary_cleaner.state.floatbank2_b_air      0\n",
       "secondary_cleaner.state.floatbank2_b_level    0\n",
       "secondary_cleaner.state.floatbank3_a_air      0\n",
       "secondary_cleaner.state.floatbank3_a_level    0\n",
       "secondary_cleaner.state.floatbank3_b_air      0\n",
       "secondary_cleaner.state.floatbank3_b_level    0\n",
       "secondary_cleaner.state.floatbank4_a_air      0\n",
       "secondary_cleaner.state.floatbank4_a_level    0\n",
       "secondary_cleaner.state.floatbank4_b_air      0\n",
       "secondary_cleaner.state.floatbank4_b_level    0\n",
       "secondary_cleaner.state.floatbank5_a_air      0\n",
       "secondary_cleaner.state.floatbank5_a_level    0\n",
       "secondary_cleaner.state.floatbank5_b_air      0\n",
       "secondary_cleaner.state.floatbank5_b_level    0\n",
       "secondary_cleaner.state.floatbank6_a_air      0\n",
       "secondary_cleaner.state.floatbank6_a_level    0\n",
       "dtype: int64"
      ]
     },
     "metadata": {},
     "output_type": "display_data"
    },
    {
     "name": "stdout",
     "output_type": "stream",
     "text": [
      "Удалено незамененных данных 0\n"
     ]
    }
   ],
   "source": [
    "clean(data_test)"
   ]
  },
  {
   "cell_type": "markdown",
   "metadata": {},
   "source": [
    "### Проверка и вычисление эффективности обогащения. MAE между расчётами и значением признака."
   ]
  },
  {
   "cell_type": "code",
   "execution_count": 11,
   "metadata": {
    "scrolled": true
   },
   "outputs": [
    {
     "name": "stdout",
     "output_type": "stream",
     "text": [
      "1.0\n"
     ]
    }
   ],
   "source": [
    "# начнем с флотации\n",
    "C = data_train['rougher.output.concentrate_au']\n",
    "F = data_train['rougher.input.feed_au']\n",
    "T = data_train['rougher.output.tail_au']\n",
    "recovery =  (C * (F - T)) / (F * (C - T)) * 100\n",
    "print(recovery.corr(data_train['rougher.output.recovery']))"
   ]
  },
  {
   "cell_type": "markdown",
   "metadata": {},
   "source": [
    "Отлично, на этапе флотации все сходится."
   ]
  },
  {
   "cell_type": "code",
   "execution_count": 13,
   "metadata": {},
   "outputs": [],
   "source": [
    "recovery[recovery < 0] = 0\n",
    "recovery[recovery > 100] = 0"
   ]
  },
  {
   "cell_type": "code",
   "execution_count": 14,
   "metadata": {},
   "outputs": [
    {
     "name": "stdout",
     "output_type": "stream",
     "text": [
      "9.46896498277233e-15\n"
     ]
    }
   ],
   "source": [
    "print(mae(data_train['rougher.output.recovery'], recovery))"
   ]
  },
  {
   "cell_type": "markdown",
   "metadata": {},
   "source": [
    "Очень мало, хорошо."
   ]
  },
  {
   "cell_type": "markdown",
   "metadata": {},
   "source": [
    "### Предобработка данных"
   ]
  },
  {
   "cell_type": "code",
   "execution_count": 15,
   "metadata": {
    "scrolled": true
   },
   "outputs": [
    {
     "data": {
      "text/plain": [
       "['final.output.concentrate_ag',\n",
       " 'final.output.concentrate_pb',\n",
       " 'final.output.concentrate_sol',\n",
       " 'final.output.concentrate_au',\n",
       " 'final.output.recovery',\n",
       " 'final.output.tail_ag',\n",
       " 'final.output.tail_pb',\n",
       " 'final.output.tail_sol',\n",
       " 'final.output.tail_au',\n",
       " 'primary_cleaner.output.concentrate_ag',\n",
       " 'primary_cleaner.output.concentrate_pb',\n",
       " 'primary_cleaner.output.concentrate_sol',\n",
       " 'primary_cleaner.output.concentrate_au',\n",
       " 'primary_cleaner.output.tail_ag',\n",
       " 'primary_cleaner.output.tail_pb',\n",
       " 'primary_cleaner.output.tail_sol',\n",
       " 'primary_cleaner.output.tail_au',\n",
       " 'rougher.calculation.sulfate_to_au_concentrate',\n",
       " 'rougher.calculation.floatbank10_sulfate_to_au_feed',\n",
       " 'rougher.calculation.floatbank11_sulfate_to_au_feed',\n",
       " 'rougher.calculation.au_pb_ratio',\n",
       " 'rougher.output.concentrate_ag',\n",
       " 'rougher.output.concentrate_pb',\n",
       " 'rougher.output.concentrate_sol',\n",
       " 'rougher.output.concentrate_au',\n",
       " 'rougher.output.recovery',\n",
       " 'rougher.output.tail_ag',\n",
       " 'rougher.output.tail_pb',\n",
       " 'rougher.output.tail_sol',\n",
       " 'rougher.output.tail_au',\n",
       " 'secondary_cleaner.output.tail_ag',\n",
       " 'secondary_cleaner.output.tail_pb',\n",
       " 'secondary_cleaner.output.tail_sol',\n",
       " 'secondary_cleaner.output.tail_au']"
      ]
     },
     "metadata": {},
     "output_type": "display_data"
    }
   ],
   "source": [
    "col_drop = [col for col in list(data_train.columns) if (col not in list(data_test.columns))]\n",
    "display(col_drop)"
   ]
  },
  {
   "cell_type": "markdown",
   "metadata": {},
   "source": [
    "Как видим, в test отсутствуют результаты всех стадий процесса."
   ]
  },
  {
   "cell_type": "code",
   "execution_count": 16,
   "metadata": {},
   "outputs": [],
   "source": [
    "data_train.drop(col_drop, axis=1, inplace=True)"
   ]
  },
  {
   "cell_type": "markdown",
   "metadata": {},
   "source": [
    "## Анализ данных"
   ]
  },
  {
   "cell_type": "markdown",
   "metadata": {},
   "source": [
    "### Анализ концентрации металлов"
   ]
  },
  {
   "cell_type": "code",
   "execution_count": 17,
   "metadata": {},
   "outputs": [
    {
     "data": {
      "text/plain": [
       "rougher.input.feed_au                    0\n",
       "rougher.output.concentrate_au            0\n",
       "primary_cleaner.output.concentrate_au    0\n",
       "final.output.concentrate_au              0\n",
       "dtype: int64"
      ]
     },
     "execution_count": 17,
     "metadata": {},
     "output_type": "execute_result"
    }
   ],
   "source": [
    "data_au = data_full[['rougher.input.feed_au','rougher.output.concentrate_au','primary_cleaner.output.concentrate_au',\n",
    "                     'final.output.concentrate_au']]\n",
    "data_au.index = data_full['date']\n",
    "\n",
    "data_au.isna().sum()"
   ]
  },
  {
   "cell_type": "code",
   "execution_count": 18,
   "metadata": {
    "scrolled": true
   },
   "outputs": [],
   "source": [
    "#data_au.fillna(method='ffill', inplace=True)\n",
    "#data_au.isna().sum()"
   ]
  },
  {
   "cell_type": "code",
   "execution_count": 19,
   "metadata": {
    "scrolled": false
   },
   "outputs": [],
   "source": [
    "def plot(data):\n",
    "    plt.figure(figsize=(12,8))\n",
    "    plt.title('Изменение концентрации золота', fontsize=22)\n",
    "    plt.xlabel('Концентрация золота', fontsize=16)\n",
    "    plt.ylabel('Плотность', fontsize=16)\n",
    "    sns.distplot(data.iloc[:,[0]], bins=10)\n",
    "    sns.distplot(data.iloc[:,[1]], bins=10)\n",
    "    sns.distplot(data.iloc[:,[2]], bins=10)\n",
    "    sns.distplot(data.iloc[:,[3]], bins=10)\n",
    "    plt.legend(labels=['rougher_input', 'rouger_output', 'primary_output', 'final_output'])"
   ]
  },
  {
   "cell_type": "code",
   "execution_count": 20,
   "metadata": {
    "scrolled": false
   },
   "outputs": [
    {
     "data": {
      "image/png": "[encoded data removed]",
      "text/plain": [
       "<Figure size 864x576 with 1 Axes>"
      ]
     },
     "metadata": {
      "needs_background": "light"
     },
     "output_type": "display_data"
    }
   ],
   "source": [
    "plot(data_au)"
   ]
  },
  {
   "cell_type": "code",
   "execution_count": 21,
   "metadata": {},
   "outputs": [],
   "source": [
    "data_ag = data_full[['rougher.input.feed_ag','rougher.output.concentrate_ag','primary_cleaner.output.concentrate_ag',\n",
    "                     'final.output.concentrate_ag']]\n",
    "\n",
    "data_pb = data_full[['rougher.input.feed_pb','rougher.output.concentrate_pb','primary_cleaner.output.concentrate_pb',\n",
    "                     'final.output.concentrate_pb']]\n",
    "\n",
    "data_ag.index = data_full['date']\n",
    "data_pb.index = data_full['date']"
   ]
  },
  {
   "cell_type": "code",
   "execution_count": 22,
   "metadata": {},
   "outputs": [
    {
     "data": {
      "image/png": "[encoded data removed]",
      "text/plain": [
       "<Figure size 864x576 with 1 Axes>"
      ]
     },
     "metadata": {
      "needs_background": "light"
     },
     "output_type": "display_data"
    }
   ],
   "source": [
    "plot(data_ag)"
   ]
  },
  {
   "cell_type": "code",
   "execution_count": 23,
   "metadata": {},
   "outputs": [
    {
     "data": {
      "image/png": "[encoded data removed]",
      "text/plain": [
       "<Figure size 864x576 with 1 Axes>"
      ]
     },
     "metadata": {
      "needs_background": "light"
     },
     "output_type": "display_data"
    }
   ],
   "source": [
    "plot(data_pb)"
   ]
  },
  {
   "cell_type": "markdown",
   "metadata": {},
   "source": [
    "Имеем выбросы, что не хорошо, но можем видеть что концентрация золота и серебра в продукте со временем растет, а свинца падает. Значит очистка золота работает правильно."
   ]
  },
  {
   "cell_type": "code",
   "execution_count": 24,
   "metadata": {},
   "outputs": [
    {
     "data": {
      "text/html": [
       "<div>\n",
       "<style scoped>\n",
       "    .dataframe tbody tr th:only-of-type {\n",
       "        vertical-align: middle;\n",
       "    }\n",
       "\n",
       "    .dataframe tbody tr th {\n",
       "        vertical-align: top;\n",
       "    }\n",
       "\n",
       "    .dataframe thead th {\n",
       "        text-align: right;\n",
       "    }\n",
       "</style>\n",
       "<table border=\"1\" class=\"dataframe\">\n",
       "  <thead>\n",
       "    <tr style=\"text-align: right;\">\n",
       "      <th></th>\n",
       "      <th>rougher.input.feed_au</th>\n",
       "      <th>rougher.output.concentrate_au</th>\n",
       "      <th>primary_cleaner.output.concentrate_au</th>\n",
       "      <th>final.output.concentrate_au</th>\n",
       "    </tr>\n",
       "    <tr>\n",
       "      <th>date</th>\n",
       "      <th></th>\n",
       "      <th></th>\n",
       "      <th></th>\n",
       "      <th></th>\n",
       "    </tr>\n",
       "  </thead>\n",
       "  <tbody>\n",
       "  </tbody>\n",
       "</table>\n",
       "</div>"
      ],
      "text/plain": [
       "Empty DataFrame\n",
       "Columns: [rougher.input.feed_au, rougher.output.concentrate_au, primary_cleaner.output.concentrate_au, final.output.concentrate_au]\n",
       "Index: []"
      ]
     },
     "metadata": {},
     "output_type": "display_data"
    },
    {
     "data": {
      "text/html": [
       "<div>\n",
       "<style scoped>\n",
       "    .dataframe tbody tr th:only-of-type {\n",
       "        vertical-align: middle;\n",
       "    }\n",
       "\n",
       "    .dataframe tbody tr th {\n",
       "        vertical-align: top;\n",
       "    }\n",
       "\n",
       "    .dataframe thead th {\n",
       "        text-align: right;\n",
       "    }\n",
       "</style>\n",
       "<table border=\"1\" class=\"dataframe\">\n",
       "  <thead>\n",
       "    <tr style=\"text-align: right;\">\n",
       "      <th></th>\n",
       "      <th>rougher.input.feed_ag</th>\n",
       "      <th>rougher.output.concentrate_ag</th>\n",
       "      <th>primary_cleaner.output.concentrate_ag</th>\n",
       "      <th>final.output.concentrate_ag</th>\n",
       "    </tr>\n",
       "    <tr>\n",
       "      <th>date</th>\n",
       "      <th></th>\n",
       "      <th></th>\n",
       "      <th></th>\n",
       "      <th></th>\n",
       "    </tr>\n",
       "  </thead>\n",
       "  <tbody>\n",
       "  </tbody>\n",
       "</table>\n",
       "</div>"
      ],
      "text/plain": [
       "Empty DataFrame\n",
       "Columns: [rougher.input.feed_ag, rougher.output.concentrate_ag, primary_cleaner.output.concentrate_ag, final.output.concentrate_ag]\n",
       "Index: []"
      ]
     },
     "metadata": {},
     "output_type": "display_data"
    },
    {
     "data": {
      "text/html": [
       "<div>\n",
       "<style scoped>\n",
       "    .dataframe tbody tr th:only-of-type {\n",
       "        vertical-align: middle;\n",
       "    }\n",
       "\n",
       "    .dataframe tbody tr th {\n",
       "        vertical-align: top;\n",
       "    }\n",
       "\n",
       "    .dataframe thead th {\n",
       "        text-align: right;\n",
       "    }\n",
       "</style>\n",
       "<table border=\"1\" class=\"dataframe\">\n",
       "  <thead>\n",
       "    <tr style=\"text-align: right;\">\n",
       "      <th></th>\n",
       "      <th>rougher.input.feed_pb</th>\n",
       "      <th>rougher.output.concentrate_pb</th>\n",
       "      <th>primary_cleaner.output.concentrate_pb</th>\n",
       "      <th>final.output.concentrate_pb</th>\n",
       "    </tr>\n",
       "    <tr>\n",
       "      <th>date</th>\n",
       "      <th></th>\n",
       "      <th></th>\n",
       "      <th></th>\n",
       "      <th></th>\n",
       "    </tr>\n",
       "  </thead>\n",
       "  <tbody>\n",
       "  </tbody>\n",
       "</table>\n",
       "</div>"
      ],
      "text/plain": [
       "Empty DataFrame\n",
       "Columns: [rougher.input.feed_pb, rougher.output.concentrate_pb, primary_cleaner.output.concentrate_pb, final.output.concentrate_pb]\n",
       "Index: []"
      ]
     },
     "metadata": {},
     "output_type": "display_data"
    }
   ],
   "source": [
    "display(data_au[data_au['rougher.input.feed_au'] <= 0])\n",
    "display(data_ag[data_ag['rougher.input.feed_ag'] <= 0])\n",
    "display(data_pb[data_pb['rougher.input.feed_pb'] <= 0])"
   ]
  },
  {
   "cell_type": "markdown",
   "metadata": {},
   "source": [
    "### Анализ сырья"
   ]
  },
  {
   "cell_type": "code",
   "execution_count": 25,
   "metadata": {
    "scrolled": false
   },
   "outputs": [
    {
     "name": "stdout",
     "output_type": "stream",
     "text": [
      "0\n",
      "0\n"
     ]
    }
   ],
   "source": [
    "print(data_train['rougher.input.feed_size'].isna().sum())\n",
    "print(data_test['rougher.input.feed_size'].isna().sum())"
   ]
  },
  {
   "cell_type": "code",
   "execution_count": 27,
   "metadata": {
    "scrolled": false
   },
   "outputs": [
    {
     "data": {
      "text/plain": [
       "<matplotlib.axes._subplots.AxesSubplot at 0x7fa172a68990>"
      ]
     },
     "execution_count": 27,
     "metadata": {},
     "output_type": "execute_result"
    },
    {
     "data": {
      "image/png": "[encoded data removed]",
      "text/plain": [
       "<Figure size 720x576 with 1 Axes>"
      ]
     },
     "metadata": {
      "needs_background": "light"
     },
     "output_type": "display_data"
    }
   ],
   "source": [
    "plt.figure(figsize=(10,8))\n",
    "sns.distplot(data_train['rougher.input.feed_size'])\n",
    "sns.distplot(data_test['rougher.input.feed_size'])"
   ]
  },
  {
   "cell_type": "markdown",
   "metadata": {},
   "source": [
    "Условно распределения близки."
   ]
  },
  {
   "cell_type": "markdown",
   "metadata": {},
   "source": [
    "### Анализ суммарной концентрации"
   ]
  },
  {
   "cell_type": "code",
   "execution_count": 28,
   "metadata": {},
   "outputs": [],
   "source": [
    "data_full['feed_conc'] = data_full['rougher.input.feed_ag'] + data_full['rougher.input.feed_pb'] +\\\n",
    "            data_full['rougher.input.feed_sol'] + data_full['rougher.input.feed_au']\n",
    "data_full['rougher_conc'] = data_full['rougher.output.concentrate_ag'] + data_full['rougher.output.concentrate_pb'] +\\\n",
    "            data_full['rougher.output.concentrate_sol'] + data_full['rougher.output.concentrate_au']\n",
    "data_full['final_conc'] = data_full['final.output.concentrate_ag'] + data_full['final.output.concentrate_pb'] +\\\n",
    "            data_full['final.output.concentrate_sol'] + data_full['final.output.concentrate_au']"
   ]
  },
  {
   "cell_type": "code",
   "execution_count": 29,
   "metadata": {},
   "outputs": [
    {
     "data": {
      "text/html": [
       "<div>\n",
       "<style scoped>\n",
       "    .dataframe tbody tr th:only-of-type {\n",
       "        vertical-align: middle;\n",
       "    }\n",
       "\n",
       "    .dataframe tbody tr th {\n",
       "        vertical-align: top;\n",
       "    }\n",
       "\n",
       "    .dataframe thead th {\n",
       "        text-align: right;\n",
       "    }\n",
       "</style>\n",
       "<table border=\"1\" class=\"dataframe\">\n",
       "  <thead>\n",
       "    <tr style=\"text-align: right;\">\n",
       "      <th></th>\n",
       "      <th>feed_conc</th>\n",
       "      <th>rougher_conc</th>\n",
       "      <th>final_conc</th>\n",
       "    </tr>\n",
       "  </thead>\n",
       "  <tbody>\n",
       "    <tr>\n",
       "      <td>count</td>\n",
       "      <td>19439.000000</td>\n",
       "      <td>19439.000000</td>\n",
       "      <td>19439.000000</td>\n",
       "    </tr>\n",
       "    <tr>\n",
       "      <td>mean</td>\n",
       "      <td>57.320789</td>\n",
       "      <td>68.170865</td>\n",
       "      <td>68.653624</td>\n",
       "    </tr>\n",
       "    <tr>\n",
       "      <td>std</td>\n",
       "      <td>7.212680</td>\n",
       "      <td>12.491279</td>\n",
       "      <td>7.427536</td>\n",
       "    </tr>\n",
       "    <tr>\n",
       "      <td>min</td>\n",
       "      <td>0.040000</td>\n",
       "      <td>0.000000</td>\n",
       "      <td>0.000000</td>\n",
       "    </tr>\n",
       "    <tr>\n",
       "      <td>25%</td>\n",
       "      <td>53.557679</td>\n",
       "      <td>66.012495</td>\n",
       "      <td>67.932362</td>\n",
       "    </tr>\n",
       "    <tr>\n",
       "      <td>50%</td>\n",
       "      <td>57.594391</td>\n",
       "      <td>70.181495</td>\n",
       "      <td>69.598444</td>\n",
       "    </tr>\n",
       "    <tr>\n",
       "      <td>75%</td>\n",
       "      <td>61.953459</td>\n",
       "      <td>74.356904</td>\n",
       "      <td>71.368472</td>\n",
       "    </tr>\n",
       "    <tr>\n",
       "      <td>max</td>\n",
       "      <td>76.978947</td>\n",
       "      <td>88.140119</td>\n",
       "      <td>80.210644</td>\n",
       "    </tr>\n",
       "  </tbody>\n",
       "</table>\n",
       "</div>"
      ],
      "text/plain": [
       "          feed_conc  rougher_conc    final_conc\n",
       "count  19439.000000  19439.000000  19439.000000\n",
       "mean      57.320789     68.170865     68.653624\n",
       "std        7.212680     12.491279      7.427536\n",
       "min        0.040000      0.000000      0.000000\n",
       "25%       53.557679     66.012495     67.932362\n",
       "50%       57.594391     70.181495     69.598444\n",
       "75%       61.953459     74.356904     71.368472\n",
       "max       76.978947     88.140119     80.210644"
      ]
     },
     "execution_count": 29,
     "metadata": {},
     "output_type": "execute_result"
    }
   ],
   "source": [
    "data_full[['feed_conc', 'rougher_conc', 'final_conc']].describe()"
   ]
  },
  {
   "cell_type": "code",
   "execution_count": 30,
   "metadata": {},
   "outputs": [
    {
     "data": {
      "image/png": "[encoded data removed]",
      "text/plain": [
       "<Figure size 432x288 with 1 Axes>"
      ]
     },
     "metadata": {
      "needs_background": "light"
     },
     "output_type": "display_data"
    },
    {
     "data": {
      "image/png": "[encoded data removed]",
      "text/plain": [
       "<Figure size 432x288 with 1 Axes>"
      ]
     },
     "metadata": {
      "needs_background": "light"
     },
     "output_type": "display_data"
    },
    {
     "data": {
      "text/plain": [
       "<matplotlib.axes._subplots.AxesSubplot at 0x7fa173361e10>"
      ]
     },
     "execution_count": 30,
     "metadata": {},
     "output_type": "execute_result"
    },
    {
     "data": {
      "image/png": "[encoded data removed]",
      "text/plain": [
       "<Figure size 432x288 with 1 Axes>"
      ]
     },
     "metadata": {
      "needs_background": "light"
     },
     "output_type": "display_data"
    }
   ],
   "source": [
    "sns.boxplot(data_full['feed_conc'], orient='v')\n",
    "plt.show()\n",
    "sns.boxplot(data_full['rougher_conc'], orient='v')\n",
    "plt.show()\n",
    "sns.boxplot(data_full['final_conc'], orient='v')"
   ]
  },
  {
   "cell_type": "code",
   "execution_count": 31,
   "metadata": {},
   "outputs": [
    {
     "data": {
      "text/plain": [
       "0    11.0\n",
       "1     NaN\n",
       "2     NaN\n",
       "dtype: float64"
      ]
     },
     "execution_count": 31,
     "metadata": {},
     "output_type": "execute_result"
    }
   ],
   "source": [
    "import pandas as pd\n",
    "\n",
    "pd.Series([1, 2, None]) + pd.Series([10, None, 50])"
   ]
  },
  {
   "cell_type": "code",
   "execution_count": 32,
   "metadata": {},
   "outputs": [
    {
     "data": {
      "image/png": "[encoded data removed]",
      "text/plain": [
       "<Figure size 432x288 with 1 Axes>"
      ]
     },
     "metadata": {
      "needs_background": "light"
     },
     "output_type": "display_data"
    },
    {
     "data": {
      "image/png": "[encoded data removed]",
      "text/plain": [
       "<Figure size 432x288 with 1 Axes>"
      ]
     },
     "metadata": {
      "needs_background": "light"
     },
     "output_type": "display_data"
    },
    {
     "data": {
      "text/plain": [
       "<matplotlib.axes._subplots.AxesSubplot at 0x7fa172919350>"
      ]
     },
     "execution_count": 32,
     "metadata": {},
     "output_type": "execute_result"
    },
    {
     "data": {
      "image/png": "[encoded data removed]",
      "text/plain": [
       "<Figure size 432x288 with 1 Axes>"
      ]
     },
     "metadata": {
      "needs_background": "light"
     },
     "output_type": "display_data"
    }
   ],
   "source": [
    "sns.distplot(data_full['feed_conc'])\n",
    "plt.show()\n",
    "sns.distplot(data_full['rougher_conc'])\n",
    "plt.show()\n",
    "sns.distplot(data_full['final_conc'])"
   ]
  },
  {
   "cell_type": "markdown",
   "metadata": {},
   "source": [
    "Визуально распределения очень похожи, особенно первые два."
   ]
  },
  {
   "cell_type": "code",
   "execution_count": 33,
   "metadata": {},
   "outputs": [
    {
     "name": "stdout",
     "output_type": "stream",
     "text": [
      "40.964009646445604 74.54712903840603\n"
     ]
    }
   ],
   "source": [
    "wh_area0 = (data_full['feed_conc'].quantile(0.75) - data_full['feed_conc'].quantile(0.25))*1.5\n",
    "print(data_full['feed_conc'].quantile(0.25) - wh_area0, data_full['feed_conc'].quantile(0.75) + wh_area0)"
   ]
  },
  {
   "cell_type": "code",
   "execution_count": 34,
   "metadata": {
    "scrolled": true
   },
   "outputs": [
    {
     "data": {
      "text/plain": [
       "date                                                  428\n",
       "final.output.concentrate_ag                           428\n",
       "final.output.concentrate_pb                           428\n",
       "final.output.concentrate_sol                          428\n",
       "final.output.concentrate_au                           428\n",
       "final.output.recovery                                 428\n",
       "final.output.tail_ag                                  428\n",
       "final.output.tail_pb                                  428\n",
       "final.output.tail_sol                                 428\n",
       "final.output.tail_au                                  428\n",
       "primary_cleaner.input.sulfate                         428\n",
       "primary_cleaner.input.depressant                      428\n",
       "primary_cleaner.input.feed_size                       428\n",
       "primary_cleaner.input.xanthate                        428\n",
       "primary_cleaner.output.concentrate_ag                 428\n",
       "primary_cleaner.output.concentrate_pb                 428\n",
       "primary_cleaner.output.concentrate_sol                428\n",
       "primary_cleaner.output.concentrate_au                 428\n",
       "primary_cleaner.output.tail_ag                        428\n",
       "primary_cleaner.output.tail_pb                        428\n",
       "primary_cleaner.output.tail_sol                       428\n",
       "primary_cleaner.output.tail_au                        428\n",
       "primary_cleaner.state.floatbank8_a_air                428\n",
       "primary_cleaner.state.floatbank8_a_level              428\n",
       "primary_cleaner.state.floatbank8_b_air                428\n",
       "primary_cleaner.state.floatbank8_b_level              428\n",
       "primary_cleaner.state.floatbank8_c_air                428\n",
       "primary_cleaner.state.floatbank8_c_level              428\n",
       "primary_cleaner.state.floatbank8_d_air                428\n",
       "primary_cleaner.state.floatbank8_d_level              428\n",
       "rougher.calculation.sulfate_to_au_concentrate         428\n",
       "rougher.calculation.floatbank10_sulfate_to_au_feed    428\n",
       "rougher.calculation.floatbank11_sulfate_to_au_feed    428\n",
       "rougher.calculation.au_pb_ratio                       428\n",
       "rougher.input.feed_ag                                 428\n",
       "rougher.input.feed_pb                                 428\n",
       "rougher.input.feed_rate                               428\n",
       "rougher.input.feed_size                               428\n",
       "rougher.input.feed_sol                                428\n",
       "rougher.input.feed_au                                 428\n",
       "rougher.input.floatbank10_sulfate                     428\n",
       "rougher.input.floatbank10_xanthate                    428\n",
       "rougher.input.floatbank11_sulfate                     428\n",
       "rougher.input.floatbank11_xanthate                    428\n",
       "rougher.output.concentrate_ag                         428\n",
       "rougher.output.concentrate_pb                         428\n",
       "rougher.output.concentrate_sol                        428\n",
       "rougher.output.concentrate_au                         428\n",
       "rougher.output.recovery                               428\n",
       "rougher.output.tail_ag                                428\n",
       "rougher.output.tail_pb                                428\n",
       "rougher.output.tail_sol                               428\n",
       "rougher.output.tail_au                                428\n",
       "rougher.state.floatbank10_a_air                       428\n",
       "rougher.state.floatbank10_a_level                     428\n",
       "rougher.state.floatbank10_b_air                       428\n",
       "rougher.state.floatbank10_b_level                     428\n",
       "rougher.state.floatbank10_c_air                       428\n",
       "rougher.state.floatbank10_c_level                     428\n",
       "rougher.state.floatbank10_d_air                       428\n",
       "rougher.state.floatbank10_d_level                     428\n",
       "rougher.state.floatbank10_e_air                       428\n",
       "rougher.state.floatbank10_e_level                     428\n",
       "rougher.state.floatbank10_f_air                       428\n",
       "rougher.state.floatbank10_f_level                     428\n",
       "secondary_cleaner.output.tail_ag                      428\n",
       "secondary_cleaner.output.tail_pb                      428\n",
       "secondary_cleaner.output.tail_sol                     428\n",
       "secondary_cleaner.output.tail_au                      428\n",
       "secondary_cleaner.state.floatbank2_a_air              428\n",
       "secondary_cleaner.state.floatbank2_a_level            428\n",
       "secondary_cleaner.state.floatbank2_b_air              428\n",
       "secondary_cleaner.state.floatbank2_b_level            428\n",
       "secondary_cleaner.state.floatbank3_a_air              428\n",
       "secondary_cleaner.state.floatbank3_a_level            428\n",
       "secondary_cleaner.state.floatbank3_b_air              428\n",
       "secondary_cleaner.state.floatbank3_b_level            428\n",
       "secondary_cleaner.state.floatbank4_a_air              428\n",
       "secondary_cleaner.state.floatbank4_a_level            428\n",
       "secondary_cleaner.state.floatbank4_b_air              428\n",
       "secondary_cleaner.state.floatbank4_b_level            428\n",
       "secondary_cleaner.state.floatbank5_a_air              428\n",
       "secondary_cleaner.state.floatbank5_a_level            428\n",
       "secondary_cleaner.state.floatbank5_b_air              428\n",
       "secondary_cleaner.state.floatbank5_b_level            428\n",
       "secondary_cleaner.state.floatbank6_a_air              428\n",
       "secondary_cleaner.state.floatbank6_a_level            428\n",
       "feed_conc                                             428\n",
       "rougher_conc                                          428\n",
       "final_conc                                            428\n",
       "dtype: int64"
      ]
     },
     "execution_count": 34,
     "metadata": {},
     "output_type": "execute_result"
    }
   ],
   "source": [
    "data_full.query('feed_conc < 40 | feed_conc > 74').count()"
   ]
  },
  {
   "cell_type": "markdown",
   "metadata": {},
   "source": [
    "Удалять? Вряд ли. Только по этому столбцу у на 10% выбросов."
   ]
  },
  {
   "cell_type": "code",
   "execution_count": 35,
   "metadata": {},
   "outputs": [
    {
     "name": "stdout",
     "output_type": "stream",
     "text": [
      "53.495880704865414 86.87351827495857\n"
     ]
    }
   ],
   "source": [
    "wh_area1 = (data_full['rougher_conc'].quantile(0.75) - data_full['rougher_conc'].quantile(0.25))*1.5\n",
    "print(data_full['rougher_conc'].quantile(0.25) - wh_area1, data_full['rougher_conc'].quantile(0.75) + wh_area1)"
   ]
  },
  {
   "cell_type": "code",
   "execution_count": 36,
   "metadata": {
    "scrolled": true
   },
   "outputs": [
    {
     "data": {
      "text/plain": [
       "date                                                  984\n",
       "final.output.concentrate_ag                           984\n",
       "final.output.concentrate_pb                           984\n",
       "final.output.concentrate_sol                          984\n",
       "final.output.concentrate_au                           984\n",
       "final.output.recovery                                 984\n",
       "final.output.tail_ag                                  984\n",
       "final.output.tail_pb                                  984\n",
       "final.output.tail_sol                                 984\n",
       "final.output.tail_au                                  984\n",
       "primary_cleaner.input.sulfate                         984\n",
       "primary_cleaner.input.depressant                      984\n",
       "primary_cleaner.input.feed_size                       984\n",
       "primary_cleaner.input.xanthate                        984\n",
       "primary_cleaner.output.concentrate_ag                 984\n",
       "primary_cleaner.output.concentrate_pb                 984\n",
       "primary_cleaner.output.concentrate_sol                984\n",
       "primary_cleaner.output.concentrate_au                 984\n",
       "primary_cleaner.output.tail_ag                        984\n",
       "primary_cleaner.output.tail_pb                        984\n",
       "primary_cleaner.output.tail_sol                       984\n",
       "primary_cleaner.output.tail_au                        984\n",
       "primary_cleaner.state.floatbank8_a_air                984\n",
       "primary_cleaner.state.floatbank8_a_level              984\n",
       "primary_cleaner.state.floatbank8_b_air                984\n",
       "primary_cleaner.state.floatbank8_b_level              984\n",
       "primary_cleaner.state.floatbank8_c_air                984\n",
       "primary_cleaner.state.floatbank8_c_level              984\n",
       "primary_cleaner.state.floatbank8_d_air                984\n",
       "primary_cleaner.state.floatbank8_d_level              984\n",
       "rougher.calculation.sulfate_to_au_concentrate         984\n",
       "rougher.calculation.floatbank10_sulfate_to_au_feed    984\n",
       "rougher.calculation.floatbank11_sulfate_to_au_feed    984\n",
       "rougher.calculation.au_pb_ratio                       984\n",
       "rougher.input.feed_ag                                 984\n",
       "rougher.input.feed_pb                                 984\n",
       "rougher.input.feed_rate                               984\n",
       "rougher.input.feed_size                               984\n",
       "rougher.input.feed_sol                                984\n",
       "rougher.input.feed_au                                 984\n",
       "rougher.input.floatbank10_sulfate                     984\n",
       "rougher.input.floatbank10_xanthate                    984\n",
       "rougher.input.floatbank11_sulfate                     984\n",
       "rougher.input.floatbank11_xanthate                    984\n",
       "rougher.output.concentrate_ag                         984\n",
       "rougher.output.concentrate_pb                         984\n",
       "rougher.output.concentrate_sol                        984\n",
       "rougher.output.concentrate_au                         984\n",
       "rougher.output.recovery                               984\n",
       "rougher.output.tail_ag                                984\n",
       "rougher.output.tail_pb                                984\n",
       "rougher.output.tail_sol                               984\n",
       "rougher.output.tail_au                                984\n",
       "rougher.state.floatbank10_a_air                       984\n",
       "rougher.state.floatbank10_a_level                     984\n",
       "rougher.state.floatbank10_b_air                       984\n",
       "rougher.state.floatbank10_b_level                     984\n",
       "rougher.state.floatbank10_c_air                       984\n",
       "rougher.state.floatbank10_c_level                     984\n",
       "rougher.state.floatbank10_d_air                       984\n",
       "rougher.state.floatbank10_d_level                     984\n",
       "rougher.state.floatbank10_e_air                       984\n",
       "rougher.state.floatbank10_e_level                     984\n",
       "rougher.state.floatbank10_f_air                       984\n",
       "rougher.state.floatbank10_f_level                     984\n",
       "secondary_cleaner.output.tail_ag                      984\n",
       "secondary_cleaner.output.tail_pb                      984\n",
       "secondary_cleaner.output.tail_sol                     984\n",
       "secondary_cleaner.output.tail_au                      984\n",
       "secondary_cleaner.state.floatbank2_a_air              984\n",
       "secondary_cleaner.state.floatbank2_a_level            984\n",
       "secondary_cleaner.state.floatbank2_b_air              984\n",
       "secondary_cleaner.state.floatbank2_b_level            984\n",
       "secondary_cleaner.state.floatbank3_a_air              984\n",
       "secondary_cleaner.state.floatbank3_a_level            984\n",
       "secondary_cleaner.state.floatbank3_b_air              984\n",
       "secondary_cleaner.state.floatbank3_b_level            984\n",
       "secondary_cleaner.state.floatbank4_a_air              984\n",
       "secondary_cleaner.state.floatbank4_a_level            984\n",
       "secondary_cleaner.state.floatbank4_b_air              984\n",
       "secondary_cleaner.state.floatbank4_b_level            984\n",
       "secondary_cleaner.state.floatbank5_a_air              984\n",
       "secondary_cleaner.state.floatbank5_a_level            984\n",
       "secondary_cleaner.state.floatbank5_b_air              984\n",
       "secondary_cleaner.state.floatbank5_b_level            984\n",
       "secondary_cleaner.state.floatbank6_a_air              984\n",
       "secondary_cleaner.state.floatbank6_a_level            984\n",
       "feed_conc                                             984\n",
       "rougher_conc                                          984\n",
       "final_conc                                            984\n",
       "dtype: int64"
      ]
     },
     "execution_count": 36,
     "metadata": {},
     "output_type": "execute_result"
    }
   ],
   "source": [
    "data_full.query('rougher_conc < 53 | rougher_conc > 86').count()"
   ]
  },
  {
   "cell_type": "code",
   "execution_count": 37,
   "metadata": {},
   "outputs": [
    {
     "name": "stdout",
     "output_type": "stream",
     "text": [
      "62.77819682695536 76.52263706682834\n"
     ]
    }
   ],
   "source": [
    "wh_area2 = (data_full['final_conc'].quantile(0.75) - data_full['final_conc'].quantile(0.25))*1.5\n",
    "print(data_full['final_conc'].quantile(0.25) - wh_area2, data_full['final_conc'].quantile(0.75) + wh_area2)"
   ]
  },
  {
   "cell_type": "code",
   "execution_count": 38,
   "metadata": {
    "scrolled": true
   },
   "outputs": [
    {
     "data": {
      "text/plain": [
       "date                                                  1309\n",
       "final.output.concentrate_ag                           1309\n",
       "final.output.concentrate_pb                           1309\n",
       "final.output.concentrate_sol                          1309\n",
       "final.output.concentrate_au                           1309\n",
       "final.output.recovery                                 1309\n",
       "final.output.tail_ag                                  1309\n",
       "final.output.tail_pb                                  1309\n",
       "final.output.tail_sol                                 1309\n",
       "final.output.tail_au                                  1309\n",
       "primary_cleaner.input.sulfate                         1309\n",
       "primary_cleaner.input.depressant                      1309\n",
       "primary_cleaner.input.feed_size                       1309\n",
       "primary_cleaner.input.xanthate                        1309\n",
       "primary_cleaner.output.concentrate_ag                 1309\n",
       "primary_cleaner.output.concentrate_pb                 1309\n",
       "primary_cleaner.output.concentrate_sol                1309\n",
       "primary_cleaner.output.concentrate_au                 1309\n",
       "primary_cleaner.output.tail_ag                        1309\n",
       "primary_cleaner.output.tail_pb                        1309\n",
       "primary_cleaner.output.tail_sol                       1309\n",
       "primary_cleaner.output.tail_au                        1309\n",
       "primary_cleaner.state.floatbank8_a_air                1309\n",
       "primary_cleaner.state.floatbank8_a_level              1309\n",
       "primary_cleaner.state.floatbank8_b_air                1309\n",
       "primary_cleaner.state.floatbank8_b_level              1309\n",
       "primary_cleaner.state.floatbank8_c_air                1309\n",
       "primary_cleaner.state.floatbank8_c_level              1309\n",
       "primary_cleaner.state.floatbank8_d_air                1309\n",
       "primary_cleaner.state.floatbank8_d_level              1309\n",
       "rougher.calculation.sulfate_to_au_concentrate         1309\n",
       "rougher.calculation.floatbank10_sulfate_to_au_feed    1309\n",
       "rougher.calculation.floatbank11_sulfate_to_au_feed    1309\n",
       "rougher.calculation.au_pb_ratio                       1309\n",
       "rougher.input.feed_ag                                 1309\n",
       "rougher.input.feed_pb                                 1309\n",
       "rougher.input.feed_rate                               1309\n",
       "rougher.input.feed_size                               1309\n",
       "rougher.input.feed_sol                                1309\n",
       "rougher.input.feed_au                                 1309\n",
       "rougher.input.floatbank10_sulfate                     1309\n",
       "rougher.input.floatbank10_xanthate                    1309\n",
       "rougher.input.floatbank11_sulfate                     1309\n",
       "rougher.input.floatbank11_xanthate                    1309\n",
       "rougher.output.concentrate_ag                         1309\n",
       "rougher.output.concentrate_pb                         1309\n",
       "rougher.output.concentrate_sol                        1309\n",
       "rougher.output.concentrate_au                         1309\n",
       "rougher.output.recovery                               1309\n",
       "rougher.output.tail_ag                                1309\n",
       "rougher.output.tail_pb                                1309\n",
       "rougher.output.tail_sol                               1309\n",
       "rougher.output.tail_au                                1309\n",
       "rougher.state.floatbank10_a_air                       1309\n",
       "rougher.state.floatbank10_a_level                     1309\n",
       "rougher.state.floatbank10_b_air                       1309\n",
       "rougher.state.floatbank10_b_level                     1309\n",
       "rougher.state.floatbank10_c_air                       1309\n",
       "rougher.state.floatbank10_c_level                     1309\n",
       "rougher.state.floatbank10_d_air                       1309\n",
       "rougher.state.floatbank10_d_level                     1309\n",
       "rougher.state.floatbank10_e_air                       1309\n",
       "rougher.state.floatbank10_e_level                     1309\n",
       "rougher.state.floatbank10_f_air                       1309\n",
       "rougher.state.floatbank10_f_level                     1309\n",
       "secondary_cleaner.output.tail_ag                      1309\n",
       "secondary_cleaner.output.tail_pb                      1309\n",
       "secondary_cleaner.output.tail_sol                     1309\n",
       "secondary_cleaner.output.tail_au                      1309\n",
       "secondary_cleaner.state.floatbank2_a_air              1309\n",
       "secondary_cleaner.state.floatbank2_a_level            1309\n",
       "secondary_cleaner.state.floatbank2_b_air              1309\n",
       "secondary_cleaner.state.floatbank2_b_level            1309\n",
       "secondary_cleaner.state.floatbank3_a_air              1309\n",
       "secondary_cleaner.state.floatbank3_a_level            1309\n",
       "secondary_cleaner.state.floatbank3_b_air              1309\n",
       "secondary_cleaner.state.floatbank3_b_level            1309\n",
       "secondary_cleaner.state.floatbank4_a_air              1309\n",
       "secondary_cleaner.state.floatbank4_a_level            1309\n",
       "secondary_cleaner.state.floatbank4_b_air              1309\n",
       "secondary_cleaner.state.floatbank4_b_level            1309\n",
       "secondary_cleaner.state.floatbank5_a_air              1309\n",
       "secondary_cleaner.state.floatbank5_a_level            1309\n",
       "secondary_cleaner.state.floatbank5_b_air              1309\n",
       "secondary_cleaner.state.floatbank5_b_level            1309\n",
       "secondary_cleaner.state.floatbank6_a_air              1309\n",
       "secondary_cleaner.state.floatbank6_a_level            1309\n",
       "feed_conc                                             1309\n",
       "rougher_conc                                          1309\n",
       "final_conc                                            1309\n",
       "dtype: int64"
      ]
     },
     "execution_count": 38,
     "metadata": {},
     "output_type": "execute_result"
    }
   ],
   "source": [
    "data_full.query('final_conc < 62 | final_conc > 76').count()"
   ]
  },
  {
   "cell_type": "markdown",
   "metadata": {},
   "source": [
    "Итого много. Глянем сколько в общем, вдруг несколько выбросов в одной строке."
   ]
  },
  {
   "cell_type": "code",
   "execution_count": 39,
   "metadata": {
    "scrolled": true
   },
   "outputs": [
    {
     "data": {
      "text/plain": [
       "date                                                  2271\n",
       "final.output.concentrate_ag                           2271\n",
       "final.output.concentrate_pb                           2271\n",
       "final.output.concentrate_sol                          2271\n",
       "final.output.concentrate_au                           2271\n",
       "final.output.recovery                                 2271\n",
       "final.output.tail_ag                                  2271\n",
       "final.output.tail_pb                                  2271\n",
       "final.output.tail_sol                                 2271\n",
       "final.output.tail_au                                  2271\n",
       "primary_cleaner.input.sulfate                         2271\n",
       "primary_cleaner.input.depressant                      2271\n",
       "primary_cleaner.input.feed_size                       2271\n",
       "primary_cleaner.input.xanthate                        2271\n",
       "primary_cleaner.output.concentrate_ag                 2271\n",
       "primary_cleaner.output.concentrate_pb                 2271\n",
       "primary_cleaner.output.concentrate_sol                2271\n",
       "primary_cleaner.output.concentrate_au                 2271\n",
       "primary_cleaner.output.tail_ag                        2271\n",
       "primary_cleaner.output.tail_pb                        2271\n",
       "primary_cleaner.output.tail_sol                       2271\n",
       "primary_cleaner.output.tail_au                        2271\n",
       "primary_cleaner.state.floatbank8_a_air                2271\n",
       "primary_cleaner.state.floatbank8_a_level              2271\n",
       "primary_cleaner.state.floatbank8_b_air                2271\n",
       "primary_cleaner.state.floatbank8_b_level              2271\n",
       "primary_cleaner.state.floatbank8_c_air                2271\n",
       "primary_cleaner.state.floatbank8_c_level              2271\n",
       "primary_cleaner.state.floatbank8_d_air                2271\n",
       "primary_cleaner.state.floatbank8_d_level              2271\n",
       "rougher.calculation.sulfate_to_au_concentrate         2271\n",
       "rougher.calculation.floatbank10_sulfate_to_au_feed    2271\n",
       "rougher.calculation.floatbank11_sulfate_to_au_feed    2271\n",
       "rougher.calculation.au_pb_ratio                       2271\n",
       "rougher.input.feed_ag                                 2271\n",
       "rougher.input.feed_pb                                 2271\n",
       "rougher.input.feed_rate                               2271\n",
       "rougher.input.feed_size                               2271\n",
       "rougher.input.feed_sol                                2271\n",
       "rougher.input.feed_au                                 2271\n",
       "rougher.input.floatbank10_sulfate                     2271\n",
       "rougher.input.floatbank10_xanthate                    2271\n",
       "rougher.input.floatbank11_sulfate                     2271\n",
       "rougher.input.floatbank11_xanthate                    2271\n",
       "rougher.output.concentrate_ag                         2271\n",
       "rougher.output.concentrate_pb                         2271\n",
       "rougher.output.concentrate_sol                        2271\n",
       "rougher.output.concentrate_au                         2271\n",
       "rougher.output.recovery                               2271\n",
       "rougher.output.tail_ag                                2271\n",
       "rougher.output.tail_pb                                2271\n",
       "rougher.output.tail_sol                               2271\n",
       "rougher.output.tail_au                                2271\n",
       "rougher.state.floatbank10_a_air                       2271\n",
       "rougher.state.floatbank10_a_level                     2271\n",
       "rougher.state.floatbank10_b_air                       2271\n",
       "rougher.state.floatbank10_b_level                     2271\n",
       "rougher.state.floatbank10_c_air                       2271\n",
       "rougher.state.floatbank10_c_level                     2271\n",
       "rougher.state.floatbank10_d_air                       2271\n",
       "rougher.state.floatbank10_d_level                     2271\n",
       "rougher.state.floatbank10_e_air                       2271\n",
       "rougher.state.floatbank10_e_level                     2271\n",
       "rougher.state.floatbank10_f_air                       2271\n",
       "rougher.state.floatbank10_f_level                     2271\n",
       "secondary_cleaner.output.tail_ag                      2271\n",
       "secondary_cleaner.output.tail_pb                      2271\n",
       "secondary_cleaner.output.tail_sol                     2271\n",
       "secondary_cleaner.output.tail_au                      2271\n",
       "secondary_cleaner.state.floatbank2_a_air              2271\n",
       "secondary_cleaner.state.floatbank2_a_level            2271\n",
       "secondary_cleaner.state.floatbank2_b_air              2271\n",
       "secondary_cleaner.state.floatbank2_b_level            2271\n",
       "secondary_cleaner.state.floatbank3_a_air              2271\n",
       "secondary_cleaner.state.floatbank3_a_level            2271\n",
       "secondary_cleaner.state.floatbank3_b_air              2271\n",
       "secondary_cleaner.state.floatbank3_b_level            2271\n",
       "secondary_cleaner.state.floatbank4_a_air              2271\n",
       "secondary_cleaner.state.floatbank4_a_level            2271\n",
       "secondary_cleaner.state.floatbank4_b_air              2271\n",
       "secondary_cleaner.state.floatbank4_b_level            2271\n",
       "secondary_cleaner.state.floatbank5_a_air              2271\n",
       "secondary_cleaner.state.floatbank5_a_level            2271\n",
       "secondary_cleaner.state.floatbank5_b_air              2271\n",
       "secondary_cleaner.state.floatbank5_b_level            2271\n",
       "secondary_cleaner.state.floatbank6_a_air              2271\n",
       "secondary_cleaner.state.floatbank6_a_level            2271\n",
       "feed_conc                                             2271\n",
       "rougher_conc                                          2271\n",
       "final_conc                                            2271\n",
       "dtype: int64"
      ]
     },
     "execution_count": 39,
     "metadata": {},
     "output_type": "execute_result"
    }
   ],
   "source": [
    "data_full.query('feed_conc < 40 | feed_conc > 74 | rougher_conc < 53 | rougher_conc > 86 | \\\n",
    "    final_conc < 62 | final_conc > 76').count()"
   ]
  },
  {
   "cell_type": "markdown",
   "metadata": {},
   "source": [
    "Тоесть имеем порядка 20% выбросов (видимых выше). Очень много."
   ]
  },
  {
   "cell_type": "markdown",
   "metadata": {},
   "source": [
    "## Модель"
   ]
  },
  {
   "cell_type": "markdown",
   "metadata": {},
   "source": [
    "Для начала добавим в таблицы поля из общей."
   ]
  },
  {
   "cell_type": "code",
   "execution_count": 40,
   "metadata": {},
   "outputs": [],
   "source": [
    "data_train.index = data_train['date']\n",
    "data_train.drop(['date'], axis=1, inplace=True)\n",
    "\n",
    "data_test.index = data_test['date']\n",
    "data_test.drop(['date'], axis=1, inplace=True)\n",
    "\n",
    "data_full.index = data_full['date']\n",
    "data_full.drop(['date'], axis=1, inplace=True)"
   ]
  },
  {
   "cell_type": "code",
   "execution_count": 41,
   "metadata": {
    "scrolled": false
   },
   "outputs": [],
   "source": [
    "data_train = data_train.join(data_full['rougher.output.recovery'], on='date')\n",
    "data_train = data_train.join(data_full['final.output.recovery'], on='date')\n",
    "\n",
    "data_test = data_test.join(data_full['rougher.output.recovery'], on='date')\n",
    "data_test = data_test.join(data_full['final.output.recovery'], on='date')"
   ]
  },
  {
   "cell_type": "code",
   "execution_count": 42,
   "metadata": {
    "scrolled": false
   },
   "outputs": [
    {
     "data": {
      "text/plain": [
       "True"
      ]
     },
     "execution_count": 42,
     "metadata": {},
     "output_type": "execute_result"
    }
   ],
   "source": [
    "data_full.loc['2016-09-01 00:59:59']['rougher.output.recovery'] == \\\n",
    "data_test.loc['2016-09-01 00:59:59']['rougher.output.recovery']"
   ]
  },
  {
   "cell_type": "markdown",
   "metadata": {},
   "source": [
    "Присоединили правильно."
   ]
  },
  {
   "cell_type": "code",
   "execution_count": 43,
   "metadata": {
    "scrolled": true
   },
   "outputs": [
    {
     "data": {
      "text/plain": [
       "primary_cleaner.input.sulfate                   0\n",
       "primary_cleaner.input.depressant                0\n",
       "primary_cleaner.input.feed_size                 0\n",
       "primary_cleaner.input.xanthate                  0\n",
       "primary_cleaner.state.floatbank8_a_air          0\n",
       "primary_cleaner.state.floatbank8_a_level        0\n",
       "primary_cleaner.state.floatbank8_b_air          0\n",
       "primary_cleaner.state.floatbank8_b_level        0\n",
       "primary_cleaner.state.floatbank8_c_air          0\n",
       "primary_cleaner.state.floatbank8_c_level        0\n",
       "primary_cleaner.state.floatbank8_d_air          0\n",
       "primary_cleaner.state.floatbank8_d_level        0\n",
       "rougher.input.feed_ag                           0\n",
       "rougher.input.feed_pb                           0\n",
       "rougher.input.feed_rate                         0\n",
       "rougher.input.feed_size                         0\n",
       "rougher.input.feed_sol                          0\n",
       "rougher.input.feed_au                           0\n",
       "rougher.input.floatbank10_sulfate               0\n",
       "rougher.input.floatbank10_xanthate              0\n",
       "rougher.input.floatbank11_sulfate               0\n",
       "rougher.input.floatbank11_xanthate              0\n",
       "rougher.state.floatbank10_a_air                 0\n",
       "rougher.state.floatbank10_a_level               0\n",
       "rougher.state.floatbank10_b_air                 0\n",
       "rougher.state.floatbank10_b_level               0\n",
       "rougher.state.floatbank10_c_air                 0\n",
       "rougher.state.floatbank10_c_level               0\n",
       "rougher.state.floatbank10_d_air                 0\n",
       "rougher.state.floatbank10_d_level               0\n",
       "rougher.state.floatbank10_e_air                 0\n",
       "rougher.state.floatbank10_e_level               0\n",
       "rougher.state.floatbank10_f_air                 0\n",
       "rougher.state.floatbank10_f_level               0\n",
       "secondary_cleaner.state.floatbank2_a_air        0\n",
       "secondary_cleaner.state.floatbank2_a_level      0\n",
       "secondary_cleaner.state.floatbank2_b_air        0\n",
       "secondary_cleaner.state.floatbank2_b_level      0\n",
       "secondary_cleaner.state.floatbank3_a_air        0\n",
       "secondary_cleaner.state.floatbank3_a_level      0\n",
       "secondary_cleaner.state.floatbank3_b_air        0\n",
       "secondary_cleaner.state.floatbank3_b_level      0\n",
       "secondary_cleaner.state.floatbank4_a_air        0\n",
       "secondary_cleaner.state.floatbank4_a_level      0\n",
       "secondary_cleaner.state.floatbank4_b_air        0\n",
       "secondary_cleaner.state.floatbank4_b_level      0\n",
       "secondary_cleaner.state.floatbank5_a_air        0\n",
       "secondary_cleaner.state.floatbank5_a_level      0\n",
       "secondary_cleaner.state.floatbank5_b_air        0\n",
       "secondary_cleaner.state.floatbank5_b_level      0\n",
       "secondary_cleaner.state.floatbank6_a_air        0\n",
       "secondary_cleaner.state.floatbank6_a_level      0\n",
       "rougher.output.recovery                       566\n",
       "final.output.recovery                         566\n",
       "dtype: int64"
      ]
     },
     "execution_count": 43,
     "metadata": {},
     "output_type": "execute_result"
    }
   ],
   "source": [
    "data_test.isna().sum()"
   ]
  },
  {
   "cell_type": "code",
   "execution_count": 44,
   "metadata": {},
   "outputs": [],
   "source": [
    "data_test.dropna(subset=['rougher.output.recovery', 'final.output.recovery'], inplace=True)"
   ]
  },
  {
   "cell_type": "markdown",
   "metadata": {},
   "source": [
    "### SMAPE"
   ]
  },
  {
   "cell_type": "code",
   "execution_count": 45,
   "metadata": {},
   "outputs": [],
   "source": [
    "def smape(targ, pred):\n",
    "    targ = np.array(targ)    \n",
    "    smape_rougher = 100 / targ.shape[0] * sum( abs(targ[:,0] - pred[:,0]) / (abs(targ[:,0]) + abs(pred[:,0])) * 0.5 )\n",
    "    smape_final = 100 / targ.shape[0] * sum( abs(targ[:,1] - pred[:,1]) / (abs(targ[:,1]) + abs(pred[:,1])) * 0.5 )\n",
    "    smape_final = 0.25 * smape_rougher + 0.75 * smape_final\n",
    "    \n",
    "    return smape_final"
   ]
  },
  {
   "cell_type": "markdown",
   "metadata": {},
   "source": [
    "### Перебор моделей"
   ]
  },
  {
   "cell_type": "code",
   "execution_count": 46,
   "metadata": {},
   "outputs": [],
   "source": [
    "state = np.random.RandomState(0)"
   ]
  },
  {
   "cell_type": "code",
   "execution_count": 48,
   "metadata": {},
   "outputs": [],
   "source": [
    "data_train = data_train.reset_index(drop=True)\n",
    "data_test = data_test.reset_index(drop=True)"
   ]
  },
  {
   "cell_type": "code",
   "execution_count": 49,
   "metadata": {},
   "outputs": [],
   "source": [
    "targets = ['rougher.output.recovery', 'final.output.recovery']\n",
    "\n",
    "features_train = data_train.drop(targets, axis=1)\n",
    "target_train = data_train[targets]\n",
    "\n",
    "features_test = data_test.drop(targets, axis=1)\n",
    "target_test = data_test[targets]"
   ]
  },
  {
   "cell_type": "code",
   "execution_count": 50,
   "metadata": {},
   "outputs": [],
   "source": [
    "# проверка моделей\n",
    "score = make_scorer(smape, greater_is_better=False)"
   ]
  },
  {
   "cell_type": "code",
   "execution_count": 53,
   "metadata": {},
   "outputs": [],
   "source": [
    "pipeline = Pipeline([\n",
    "    ('scaler',StandardScaler()),\n",
    "    ('clf', LinearRegression())\n",
    "])"
   ]
  },
  {
   "cell_type": "code",
   "execution_count": 54,
   "metadata": {
    "scrolled": true
   },
   "outputs": [],
   "source": [
    "scores = cross_val_score(pipeline, features_train, target_train, cv=3, scoring=score)"
   ]
  },
  {
   "cell_type": "code",
   "execution_count": 55,
   "metadata": {
    "scrolled": true
   },
   "outputs": [
    {
     "data": {
      "text/plain": [
       "2.4946342843693095"
      ]
     },
     "execution_count": 55,
     "metadata": {},
     "output_type": "execute_result"
    }
   ],
   "source": [
    "pipeline.fit(features_train,target_train)\n",
    "\n",
    "preds = pipeline.predict(features_test)\n",
    "\n",
    "smape(target_test, preds)"
   ]
  },
  {
   "cell_type": "code",
   "execution_count": 66,
   "metadata": {
    "scrolled": true
   },
   "outputs": [
    {
     "data": {
      "text/plain": [
       "{'n_estimators': 20}"
      ]
     },
     "execution_count": 66,
     "metadata": {},
     "output_type": "execute_result"
    }
   ],
   "source": [
    "rfr = RandomForestRegressor\n",
    "\n",
    "param_rfr = { 'n_estimators': range (10, 51, 10)#,\n",
    "              #'max_depth': range (1, 10, 1),\n",
    "              #'min_samples_leaf': range (1,5),\n",
    "              #'min_samples_split': range (2,5) \n",
    "            }\n",
    "\n",
    "grid_rfr = GridSearchCV(rfr(random_state=12345), param_rfr, cv=3, scoring=score)\n",
    "grid_rfr.fit(features_train, target_train)\n",
    "\n",
    "grid_rfr.best_params_"
   ]
  },
  {
   "cell_type": "code",
   "execution_count": 72,
   "metadata": {},
   "outputs": [],
   "source": [
    "pipeline_2 = Pipeline([\n",
    "    ('scaler',StandardScaler()),\n",
    "    ('clf', rfr(random_state=12345, n_estimators = 20))\n",
    "])"
   ]
  },
  {
   "cell_type": "code",
   "execution_count": 73,
   "metadata": {},
   "outputs": [],
   "source": [
    "scores_2 = cross_val_score(pipeline_2, features_train, target_train, cv=3, scoring=score)"
   ]
  },
  {
   "cell_type": "code",
   "execution_count": 74,
   "metadata": {},
   "outputs": [
    {
     "data": {
      "text/plain": [
       "2.59269351622478"
      ]
     },
     "execution_count": 74,
     "metadata": {},
     "output_type": "execute_result"
    }
   ],
   "source": [
    "pipeline_2.fit(features_train,target_train)\n",
    "\n",
    "preds_2 = pipeline_2.predict(features_test)\n",
    "\n",
    "smape(target_test, preds_2)"
   ]
  },
  {
   "cell_type": "code",
   "execution_count": 76,
   "metadata": {},
   "outputs": [
    {
     "name": "stderr",
     "output_type": "stream",
     "text": [
      "/opt/conda/lib/python3.7/site-packages/ipykernel_launcher.py:9: RuntimeWarning: invalid value encountered in true_divide\n",
      "  if __name__ == '__main__':\n",
      "/opt/conda/lib/python3.7/site-packages/sklearn/model_selection/_search.py:813: DeprecationWarning: The default of the `iid` parameter will change from True to False in version 0.22 and will be removed in 0.24. This will change numeric results when test-set sizes are unequal.\n",
      "  DeprecationWarning)\n"
     ]
    },
    {
     "data": {
      "text/plain": [
       "{'n_neighbors': 9}"
      ]
     },
     "execution_count": 76,
     "metadata": {},
     "output_type": "execute_result"
    }
   ],
   "source": [
    "knr = KNeighborsRegressor\n",
    "\n",
    "param_knr = { 'n_neighbors': range (1, 10, 1)\n",
    "            }\n",
    "\n",
    "grid_knr = GridSearchCV(knr(n_jobs=-1), param_knr, cv=3, scoring=score)\n",
    "grid_knr.fit(features_train, target_train)\n",
    "\n",
    "grid_knr.best_params_"
   ]
  },
  {
   "cell_type": "code",
   "execution_count": 77,
   "metadata": {},
   "outputs": [],
   "source": [
    "pipeline_3 = Pipeline([\n",
    "    ('scaler',StandardScaler()),\n",
    "    ('clf', KNeighborsRegressor(n_neighbors=9, n_jobs=-1))\n",
    "])"
   ]
  },
  {
   "cell_type": "code",
   "execution_count": 78,
   "metadata": {},
   "outputs": [],
   "source": [
    "scores_3 = cross_val_score(pipeline_3, features_train, target_train, cv=3, scoring=score)"
   ]
  },
  {
   "cell_type": "code",
   "execution_count": 79,
   "metadata": {},
   "outputs": [
    {
     "data": {
      "text/plain": [
       "2.4844193869396203"
      ]
     },
     "execution_count": 79,
     "metadata": {},
     "output_type": "execute_result"
    }
   ],
   "source": [
    "pipeline_3.fit(features_train,target_train)\n",
    "\n",
    "preds_3 = pipeline_3.predict(features_test)\n",
    "\n",
    "smape(target_test, preds_3)"
   ]
  },
  {
   "cell_type": "markdown",
   "metadata": {},
   "source": [
    "Итого: самый меньший ответ дали соседи."
   ]
  },
  {
   "cell_type": "markdown",
   "metadata": {},
   "source": [
    "## Вывод"
   ]
  },
  {
   "cell_type": "markdown",
   "metadata": {},
   "source": [
    "После анализа полученных данных получили модель KNeighborsRegressor (без понятия надо ли указывать название, ибо в тз все же ее хотели) с ошибкой лишь 2.48%."
   ]
  }
 ],
 "metadata": {
  "kernelspec": {
   "display_name": "Python 3",
   "language": "python",
   "name": "python3"
  },
  "language_info": {
   "codemirror_mode": {
    "name": "ipython",
    "version": 3
   },
   "file_extension": ".py",
   "mimetype": "text/x-python",
   "name": "python",
   "nbconvert_exporter": "python",
   "pygments_lexer": "ipython3",
   "version": "3.8.5"
  },
  "toc": {
   "base_numbering": 1,
   "nav_menu": {},
   "number_sections": true,
   "sideBar": true,
   "skip_h1_title": true,
   "title_cell": "Содержание",
   "title_sidebar": "Contents",
   "toc_cell": true,
   "toc_position": {},
   "toc_section_display": true,
   "toc_window_display": false
  }
 },
 "nbformat": 4,
 "nbformat_minor": 2
}
